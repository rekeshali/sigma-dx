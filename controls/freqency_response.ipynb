{
 "cells": [
  {
   "cell_type": "code",
   "execution_count": null,
   "metadata": {},
   "outputs": [],
   "source": [
    "# Load interactive tools!\n",
    "include(\"FrequencyResponseMethods.jl\")\n",
    "using .FrequencyResponseMethods: interactive_root_locus"
   ]
  },
  {
   "cell_type": "markdown",
   "metadata": {},
   "source": [
    "## Frequency Domain Methods\n",
    "#### Source: Space Vehicle Dynamics and Control, Second Edition, Chapter 2, Bong Wie\n",
    "---\n",
    "### Root Locus Method\n",
    "In Evan's root locus method, the closed-loop characteristic equation is described by \n",
    "$$\n",
    "1 + KG(s) =0\n",
    "$$\n",
    "where $KG(s)$ denotes the loop transfer function, $G(s)$ includes both the compensator transfer function and the plant transfer function, and $K$ is called the overall loop gain. The root locus method can be used to determine gain margins of feedback control systems.\n",
    "\n",
    "The root locus method can be emplyed for the analysis and design of multiloop feedback systems. Such systems can be described by\n",
    "$$\n",
    "\\begin{bmatrix}\n",
    "y_1 \\\\\n",
    "y_2\n",
    "\\end{bmatrix}\n",
    "=\n",
    "\\frac{1}{D(s)}\n",
    "\\begin{bmatrix}\n",
    "N_{11}(s) & N_{12}(s) \\\\\n",
    "N_{21}(s) & N_{22}(s)\n",
    "\\end{bmatrix}\n",
    "\\begin{bmatrix}\n",
    "u_1 \\\\\n",
    "u_2\n",
    "\\end{bmatrix}\n",
    "$$\n",
    "\n",
    "Where $N_{ij}(s)$ are the numerator polynomials, $D(s)$ is the characteristic polynomial, $u_i$ and $y_i$ are the input and output, respectively. $N/D$ can be interpreted as the physical plant transfer function, $G(s)$. \n",
    "\n",
    "\n",
    "---\n",
    "### Diagonal Feedback Control\n",
    "A diagonal feedback control logic is assumed as \n",
    "$$\n",
    "u_1=-K_1(s)y_1 \\\\\n",
    "u_2=-K_2(s)y_2\n",
    "$$\n",
    "where $K_1(s)$ and $K_2(s)$ are the diagonal feedback compensators.The characteristic equation for this system can be obtained by making substitutions for the input and taking $det(I+KG)=0$. \n",
    "\n",
    "Control loop gain design for diagonal feedback controllers can be synthesized by considering the first-loop independently, introducing coupling only through the second loop. \n",
    "First loop analysis or synthesis can be performed by considering a characteristic equaton of the form\n",
    "$$\n",
    "1+(K_1N_{11}/D)=0\n",
    "$$\n",
    "After synthesizing $K_1(s)$ in the first-loop closure, the characteristic equation of the second-loop can be found as\n",
    "$$\n",
    "1+\\frac{K_2(N_{22}+K_1N)}{D+K_1N_{11}}=0\n",
    "$$\n",
    "Where $N(s)$ is the coupling numerator\n",
    "$$\n",
    "N = \\frac{N_{11}N_{22} - N_{12}N_{21}}{D(s)}\n",
    "$$\n",
    "The second-loop compensator $K_2(s)$ can then be analyzed or synthesized in a manner similiar to the method for the first-loop design; however, the zeros and the poles of the second-loop transfer function are changed by the first-loop closure.\n",
    "\n",
    "---"
   ]
  },
  {
   "cell_type": "markdown",
   "metadata": {},
   "source": [
    "\n",
    "### Problem 2.1\n",
    "Consider a system described by\n",
    "$$\n",
    "\\begin{bmatrix}\n",
    "y_1 \\\\\n",
    "y_2\n",
    "\\end{bmatrix}\n",
    "=\n",
    "\\frac{1}{s^2+100}\n",
    "\\begin{bmatrix}\n",
    "s-100 & 10(s+1) \\\\\n",
    "-10(s+1) & s-100\n",
    "\\end{bmatrix}\n",
    "\\begin{bmatrix}\n",
    "u_1 \\\\\n",
    "u_2\n",
    "\\end{bmatrix}\n",
    "$$\n",
    "\n",
    "where $(y_1, y_2)$ are the outputs and $(u_1,u2)$ are the control inputs. A constant gain diagonal feedback control logic is given as\n",
    "\n",
    "$$\n",
    "u_1=-K_1y_1 \\\\\n",
    "u_2=-K_2y_2\n",
    "$$\n",
    "\n",
    "with the nominal gains of $K_1=K_2=1$."
   ]
  },
  {
   "cell_type": "markdown",
   "metadata": {},
   "source": [
    "#### A) Sketch the root locus vs $K_1$ of the first-loop closure and indicate the closed-loop poles at $K_1=0.9, 1.0, 1.1$.\n",
    "\n",
    "Evaluate the first-loop characteristic equation\n",
    "$$\n",
    "1+(K_1N_{11}/D)= 1+\\frac{K_1(s-100)}{s^2+100} =0\\\\\n",
    "s^2+100+K_1(s-100)=0\\\\\n",
    "s^2 +K_1s +100(1-K_1) =0\n",
    "$$\n",
    "\n",
    "Employ quadratic formula to solve for roots\n",
    "$$\n",
    "x = \\frac{-b \\pm \\sqrt{b^2 - 4ac}}{2a} \\\\ \n",
    " .\\\\.\\\\\\\\\n",
    "s = \\frac{-K_1 \\pm \\sqrt{K_1^2 - 400(1-K_1)}}{2}\n",
    "$$\n",
    "\n",
    "Let's take this problem a bit further than a few values of $K_1$..."
   ]
  },
  {
   "cell_type": "code",
   "execution_count": 2,
   "metadata": {},
   "outputs": [
    {
     "data": {
      "application/vnd.webio.node+json": {
       "children": [
        {
         "children": [
          {
           "children": [
            {
             "children": [
              {
               "children": [
                {
                 "children": [
                  "K1"
                 ],
                 "instanceArgs": {
                  "namespace": "html",
                  "tag": "label"
                 },
                 "nodeType": "DOM",
                 "props": {
                  "className": "interact ",
                  "style": {
                   "padding": "5px 10px 0px 10px"
                  }
                 },
                 "type": "node"
                }
               ],
               "instanceArgs": {
                "namespace": "html",
                "tag": "div"
               },
               "nodeType": "DOM",
               "props": {
                "className": "interact-flex-row-left"
               },
               "type": "node"
              },
              {
               "children": [
                {
                 "children": [],
                 "instanceArgs": {
                  "namespace": "html",
                  "tag": "input"
                 },
                 "nodeType": "DOM",
                 "props": {
                  "attributes": {
                   "data-bind": "numericValue: index, valueUpdate: 'input', event: {change: function (){this.changes(this.changes()+1)}}",
                   "orient": "horizontal",
                   "type": "range"
                  },
                  "className": "slider slider is-fullwidth",
                  "max": 81,
                  "min": 1,
                  "step": 1,
                  "style": {}
                 },
                 "type": "node"
                }
               ],
               "instanceArgs": {
                "namespace": "html",
                "tag": "div"
               },
               "nodeType": "DOM",
               "props": {
                "className": "interact-flex-row-center"
               },
               "type": "node"
              },
              {
               "children": [
                {
                 "children": [],
                 "instanceArgs": {
                  "namespace": "html",
                  "tag": "p"
                 },
                 "nodeType": "DOM",
                 "props": {
                  "attributes": {
                   "data-bind": "text: formatted_val"
                  }
                 },
                 "type": "node"
                }
               ],
               "instanceArgs": {
                "namespace": "html",
                "tag": "div"
               },
               "nodeType": "DOM",
               "props": {
                "className": "interact-flex-row-right"
               },
               "type": "node"
              }
             ],
             "instanceArgs": {
              "namespace": "html",
              "tag": "div"
             },
             "nodeType": "DOM",
             "props": {
              "className": "interact-flex-row interact-widget"
             },
             "type": "node"
            }
           ],
           "instanceArgs": {
            "handlers": {
             "changes": [
              "(function (val){return (val!=this.model[\"changes\"]()) ? (this.valueFromJulia[\"changes\"]=true, this.model[\"changes\"](val)) : undefined})"
             ],
             "index": [
              "(function (val){return (val!=this.model[\"index\"]()) ? (this.valueFromJulia[\"index\"]=true, this.model[\"index\"](val)) : undefined})"
             ]
            },
            "id": "4488159928220768087",
            "imports": {
             "data": [
              {
               "name": "knockout",
               "type": "js",
               "url": "/assetserver/3a4e929e1247ddcb940724c9d5e4ccd400680bc1-knockout.js"
              },
              {
               "name": "knockout_punches",
               "type": "js",
               "url": "/assetserver/9ca207215f568ec5d0d75f182ccbdbd8dd906e15-knockout_punches.js"
              },
              {
               "name": null,
               "type": "js",
               "url": "/assetserver/c96662358d6cb2449f867353aa479fa9dac5fe24-all.js"
              },
              {
               "name": null,
               "type": "css",
               "url": "/assetserver/e6425ae419f0dcdfbee7713f9a874d7d1a17a3b6-style.css"
              },
              {
               "name": null,
               "type": "css",
               "url": "/assetserver/22f71783ac1f8a0d451a6a1c32dcfc248cf4d450-bulma_confined.min.css"
              }
             ],
             "type": "async_block"
            },
            "mount_callbacks": [
             "function () {\n    var handler = (function (ko, koPunches) {\n    ko.punches.enableAll();\n    ko.bindingHandlers.numericValue = {\n        init: function(element, valueAccessor, allBindings, data, context) {\n            var stringified = ko.observable(ko.unwrap(valueAccessor()));\n            stringified.subscribe(function(value) {\n                var val = parseFloat(value);\n                if (!isNaN(val)) {\n                    valueAccessor()(val);\n                }\n            });\n            valueAccessor().subscribe(function(value) {\n                var str = JSON.stringify(value);\n                if ((str == \"0\") && ([\"-0\", \"-0.\"].indexOf(stringified()) >= 0))\n                     return;\n                 if ([\"null\", \"\"].indexOf(str) >= 0)\n                     return;\n                stringified(str);\n            });\n            ko.applyBindingsToNode(\n                element,\n                {\n                    value: stringified,\n                    valueUpdate: allBindings.get('valueUpdate'),\n                },\n                context,\n            );\n        }\n    };\n    var json_data = {\"formatted_vals\":[\"-2.0\",\"-1.95\",\"-1.9\",\"-1.85\",\"-1.8\",\"-1.75\",\"-1.7\",\"-1.65\",\"-1.6\",\"-1.55\",\"-1.5\",\"-1.45\",\"-1.4\",\"-1.35\",\"-1.3\",\"-1.25\",\"-1.2\",\"-1.15\",\"-1.1\",\"-1.05\",\"-1.0\",\"-0.95\",\"-0.9\",\"-0.85\",\"-0.8\",\"-0.75\",\"-0.7\",\"-0.65\",\"-0.6\",\"-0.55\",\"-0.5\",\"-0.45\",\"-0.4\",\"-0.35\",\"-0.3\",\"-0.25\",\"-0.2\",\"-0.15\",\"-0.1\",\"-0.05\",\"0.0\",\"0.05\",\"0.1\",\"0.15\",\"0.2\",\"0.25\",\"0.3\",\"0.35\",\"0.4\",\"0.45\",\"0.5\",\"0.55\",\"0.6\",\"0.65\",\"0.7\",\"0.75\",\"0.8\",\"0.85\",\"0.9\",\"0.95\",\"1.0\",\"1.05\",\"1.1\",\"1.15\",\"1.2\",\"1.25\",\"1.3\",\"1.35\",\"1.4\",\"1.45\",\"1.5\",\"1.55\",\"1.6\",\"1.65\",\"1.7\",\"1.75\",\"1.8\",\"1.85\",\"1.9\",\"1.95\",\"2.0\"],\"changes\":WebIO.getval({\"name\":\"changes\",\"scope\":\"4488159928220768087\",\"id\":\"3\",\"type\":\"observable\"}),\"index\":WebIO.getval({\"name\":\"index\",\"scope\":\"4488159928220768087\",\"id\":\"2\",\"type\":\"observable\"})};\n    var self = this;\n    function AppViewModel() {\n        for (var key in json_data) {\n            var el = json_data[key];\n            this[key] = Array.isArray(el) ? ko.observableArray(el) : ko.observable(el);\n        }\n        \n        [this[\"formatted_val\"]=ko.computed(    function(){\n        return this.formatted_vals()[parseInt(this.index())-(1)];\n    }\n,this)]\n        [this[\"changes\"].subscribe((function (val){!(this.valueFromJulia[\"changes\"]) ? (WebIO.setval({\"name\":\"changes\",\"scope\":\"4488159928220768087\",\"id\":\"3\",\"type\":\"observable\"},val)) : undefined; return this.valueFromJulia[\"changes\"]=false}),self),this[\"index\"].subscribe((function (val){!(this.valueFromJulia[\"index\"]) ? (WebIO.setval({\"name\":\"index\",\"scope\":\"4488159928220768087\",\"id\":\"2\",\"type\":\"observable\"},val)) : undefined; return this.valueFromJulia[\"index\"]=false}),self)]\n        \n    }\n    self.model = new AppViewModel();\n    self.valueFromJulia = {};\n    for (var key in json_data) {\n        self.valueFromJulia[key] = false;\n    }\n    ko.applyBindings(self.model, self.dom);\n}\n);\n    (WebIO.importBlock({\"data\":[{\"name\":\"knockout\",\"type\":\"js\",\"url\":\"/assetserver/3a4e929e1247ddcb940724c9d5e4ccd400680bc1-knockout.js\"},{\"name\":\"knockout_punches\",\"type\":\"js\",\"url\":\"/assetserver/9ca207215f568ec5d0d75f182ccbdbd8dd906e15-knockout_punches.js\"}],\"type\":\"async_block\"})).then((imports) => handler.apply(this, imports));\n}\n"
            ],
            "observables": {
             "changes": {
              "id": "3",
              "sync": false,
              "value": 0
             },
             "index": {
              "id": "2",
              "sync": true,
              "value": 41
             }
            },
            "systemjs_options": null
           },
           "nodeType": "Scope",
           "props": {},
           "type": "node"
          }
         ],
         "instanceArgs": {
          "namespace": "html",
          "tag": "div"
         },
         "nodeType": "DOM",
         "props": {
          "className": "field interact-widget"
         },
         "type": "node"
        },
        {
         "children": [
          {
           "children": [],
           "instanceArgs": {
            "id": "9",
            "name": "obs-node"
           },
           "nodeType": "ObservableNode",
           "props": {},
           "type": "node"
          }
         ],
         "instanceArgs": {
          "handlers": {},
          "id": "13935167549244510546",
          "imports": {
           "data": [],
           "type": "async_block"
          },
          "mount_callbacks": [],
          "observables": {
           "obs-node": {
            "id": "9",
            "sync": false,
            "value": {
             "children": [
              {
               "children": [],
               "instanceArgs": {
                "namespace": "html",
                "tag": "div"
               },
               "nodeType": "DOM",
               "props": {
                "setInnerHtml": "    <div id=\"0d88ac27-f4ff-48e9-a6cf-cc2cdf8b2cbe\" style=\"width:600px;height:400px;\"></div>\n    <script>\n        requirejs.config({\n        paths: {\n            plotly: 'https://cdn.plot.ly/plotly-2.6.3.min'\n        }\n    });\n    require(['plotly'], function (Plotly) {\n\n    Plotly.newPlot('0d88ac27-f4ff-48e9-a6cf-cc2cdf8b2cbe', [\n    {\n        \"xaxis\": \"x\",\n        \"colorbar\": {\n            \"y\": 0.5086805555555556,\n            \"title\": \"\",\n            \"len\": 0.8657316272965879,\n            \"x\": 0.9934383202099737\n        },\n        \"yaxis\": \"y\",\n        \"text\": [\n            \"Root Locus<br>K1: 0.00<br>R1: 0.00 + 10.00j<br>R2: -0.00 + -10.00j\",\n            \"Root Locus<br>K1: 0.00<br>R1: 0.00 + 10.00j<br>R2: -0.00 + -10.00j\"\n        ],\n        \"x\": [\n            0.0,\n            -0.0\n        ],\n        \"showlegend\": true,\n        \"mode\": \"markers\",\n        \"name\": \"y2\",\n        \"legendgroup\": \"y2\",\n        \"marker\": {\n            \"symbol\": \"circle\",\n            \"color\": \"rgba(128, 128, 128, 1.000)\",\n            \"line\": {\n                \"color\": \"rgba(0, 0, 0, 1.000)\",\n                \"width\": 1\n            },\n            \"size\": 10\n        },\n        \"y\": [\n            10.0,\n            -10.0\n        ],\n        \"type\": \"scatter\",\n        \"hoverinfo\": \"text\"\n    }\n]\n, {\n    \"showlegend\": false,\n    \"xaxis\": {\n        \"showticklabels\": true,\n        \"gridwidth\": 0.5,\n        \"tickvals\": [\n            0.0,\n            0.25,\n            0.5,\n            0.75,\n            1.0\n        ],\n        \"range\": [\n            -0.030000000000000027,\n            1.03\n        ],\n        \"domain\": [\n            0.07646908719743364,\n            0.9934383202099737\n        ],\n        \"mirror\": false,\n        \"tickangle\": 0,\n        \"showline\": true,\n        \"ticktext\": [\n            \"0.00\",\n            \"0.25\",\n            \"0.50\",\n            \"0.75\",\n            \"1.00\"\n        ],\n        \"zeroline\": false,\n        \"tickfont\": {\n            \"color\": \"rgba(0, 0, 0, 1.000)\",\n            \"family\": \"sans-serif\",\n            \"size\": 11\n        },\n        \"zerolinecolor\": \"rgba(0, 0, 0, 1.000)\",\n        \"anchor\": \"y\",\n        \"visible\": true,\n        \"ticks\": \"inside\",\n        \"tickmode\": \"array\",\n        \"linecolor\": \"rgba(0, 0, 0, 1.000)\",\n        \"showgrid\": true,\n        \"title\": \"Re(s)\",\n        \"gridcolor\": \"rgba(0, 0, 0, 0.100)\",\n        \"titlefont\": {\n            \"color\": \"rgba(0, 0, 0, 1.000)\",\n            \"family\": \"sans-serif\",\n            \"size\": 15\n        },\n        \"tickcolor\": \"rgb(0, 0, 0)\",\n        \"type\": \"-\"\n    },\n    \"paper_bgcolor\": \"rgba(255, 255, 255, 1.000)\",\n    \"annotations\": [\n        {\n            \"yanchor\": \"top\",\n            \"xanchor\": \"center\",\n            \"rotation\": -0.0,\n            \"y\": 1.0,\n            \"font\": {\n                \"color\": \"rgba(0, 0, 0, 1.000)\",\n                \"family\": \"sans-serif\",\n                \"size\": 20\n            },\n            \"yref\": \"paper\",\n            \"showarrow\": false,\n            \"text\": \"Root Locus\",\n            \"xref\": \"paper\",\n            \"x\": 0.5349537037037038\n        }\n    ],\n    \"height\": 400,\n    \"margin\": {\n        \"l\": 0,\n        \"b\": 20,\n        \"r\": 0,\n        \"t\": 20\n    },\n    \"plot_bgcolor\": \"rgba(255, 255, 255, 1.000)\",\n    \"yaxis\": {\n        \"showticklabels\": true,\n        \"gridwidth\": 0.5,\n        \"tickvals\": [\n            -10.0,\n            -5.0,\n            0.0,\n            5.0,\n            10.0\n        ],\n        \"range\": [\n            -10.600000000000001,\n            10.600000000000001\n        ],\n        \"domain\": [\n            0.07581474190726165,\n            0.9415463692038496\n        ],\n        \"mirror\": false,\n        \"tickangle\": 0,\n        \"showline\": true,\n        \"ticktext\": [\n            \"−10\",\n            \"−5\",\n            \"0\",\n            \"5\",\n            \"10\"\n        ],\n        \"zeroline\": false,\n        \"tickfont\": {\n            \"color\": \"rgba(0, 0, 0, 1.000)\",\n            \"family\": \"sans-serif\",\n            \"size\": 11\n        },\n        \"zerolinecolor\": \"rgba(0, 0, 0, 1.000)\",\n        \"anchor\": \"x\",\n        \"visible\": true,\n        \"ticks\": \"inside\",\n        \"tickmode\": \"array\",\n        \"linecolor\": \"rgba(0, 0, 0, 1.000)\",\n        \"showgrid\": true,\n        \"title\": \"Im(s)\",\n        \"gridcolor\": \"rgba(0, 0, 0, 0.100)\",\n        \"titlefont\": {\n            \"color\": \"rgba(0, 0, 0, 1.000)\",\n            \"family\": \"sans-serif\",\n            \"size\": 15\n        },\n        \"tickcolor\": \"rgb(0, 0, 0)\",\n        \"type\": \"-\"\n    },\n    \"width\": 600\n}\n);\n    });\n    </script>\n"
               },
               "type": "node"
              }
             ],
             "instanceArgs": {
              "namespace": "html",
              "tag": "div"
             },
             "nodeType": "DOM",
             "props": {
              "className": "interact-flex-row interact-widget"
             },
             "type": "node"
            }
           }
          },
          "systemjs_options": null
         },
         "nodeType": "Scope",
         "props": {},
         "type": "node"
        }
       ],
       "instanceArgs": {
        "namespace": "html",
        "tag": "div"
       },
       "nodeType": "DOM",
       "props": {},
       "type": "node"
      },
      "text/html": [
       "<div\n",
       "    class=\"webio-mountpoint\"\n",
       "    data-webio-mountpoint=\"4568700718685916994\"\n",
       ">\n",
       "    <script>\n",
       "    (function(){\n",
       "    // Some integrations (namely, IJulia/Jupyter) use an alternate render pathway than\n",
       "    // just putting the html on the page. If WebIO isn't defined, then it's pretty likely\n",
       "    // that we're in one of those situations and the integration just isn't installed\n",
       "    // correctly.\n",
       "    if (typeof window.WebIO === \"undefined\") {\n",
       "        document\n",
       "            .querySelector('[data-webio-mountpoint=\"4568700718685916994\"]')\n",
       "            .innerHTML = (\n",
       "                '<div style=\"padding: 1em; background-color: #f8d6da; border: 1px solid #f5c6cb; font-weight: bold;\">' +\n",
       "                '<p><strong>WebIO not detected.</strong></p>' +\n",
       "                '<p>Please read ' +\n",
       "                '<a href=\"https://juliagizmos.github.io/WebIO.jl/latest/troubleshooting/not-detected/\" target=\"_blank\">the troubleshooting guide</a> ' +\n",
       "                'for more information on how to resolve this issue.</p>' +\n",
       "                '<p><a href=\"https://juliagizmos.github.io/WebIO.jl/latest/troubleshooting/not-detected/\" target=\"_blank\">https://juliagizmos.github.io/WebIO.jl/latest/troubleshooting/not-detected/</a></p>' +\n",
       "                '</div>'\n",
       "            );\n",
       "        return;\n",
       "    }\n",
       "    WebIO.mount(\n",
       "        document.querySelector('[data-webio-mountpoint=\"4568700718685916994\"]'),\n",
       "        {\"props\":{},\"nodeType\":\"DOM\",\"type\":\"node\",\"instanceArgs\":{\"namespace\":\"html\",\"tag\":\"div\"},\"children\":[{\"props\":{\"className\":\"field interact-widget\"},\"nodeType\":\"DOM\",\"type\":\"node\",\"instanceArgs\":{\"namespace\":\"html\",\"tag\":\"div\"},\"children\":[{\"props\":{},\"nodeType\":\"Scope\",\"type\":\"node\",\"instanceArgs\":{\"imports\":{\"data\":[{\"name\":\"knockout\",\"type\":\"js\",\"url\":\"\\/assetserver\\/3a4e929e1247ddcb940724c9d5e4ccd400680bc1-knockout.js\"},{\"name\":\"knockout_punches\",\"type\":\"js\",\"url\":\"\\/assetserver\\/9ca207215f568ec5d0d75f182ccbdbd8dd906e15-knockout_punches.js\"},{\"name\":null,\"type\":\"js\",\"url\":\"\\/assetserver\\/c96662358d6cb2449f867353aa479fa9dac5fe24-all.js\"},{\"name\":null,\"type\":\"css\",\"url\":\"\\/assetserver\\/e6425ae419f0dcdfbee7713f9a874d7d1a17a3b6-style.css\"},{\"name\":null,\"type\":\"css\",\"url\":\"\\/assetserver\\/22f71783ac1f8a0d451a6a1c32dcfc248cf4d450-bulma_confined.min.css\"}],\"type\":\"async_block\"},\"id\":\"4488159928220768087\",\"handlers\":{\"changes\":[\"(function (val){return (val!=this.model[\\\"changes\\\"]()) ? (this.valueFromJulia[\\\"changes\\\"]=true, this.model[\\\"changes\\\"](val)) : undefined})\"],\"index\":[\"(function (val){return (val!=this.model[\\\"index\\\"]()) ? (this.valueFromJulia[\\\"index\\\"]=true, this.model[\\\"index\\\"](val)) : undefined})\"]},\"systemjs_options\":null,\"mount_callbacks\":[\"function () {\\n    var handler = (function (ko, koPunches) {\\n    ko.punches.enableAll();\\n    ko.bindingHandlers.numericValue = {\\n        init: function(element, valueAccessor, allBindings, data, context) {\\n            var stringified = ko.observable(ko.unwrap(valueAccessor()));\\n            stringified.subscribe(function(value) {\\n                var val = parseFloat(value);\\n                if (!isNaN(val)) {\\n                    valueAccessor()(val);\\n                }\\n            });\\n            valueAccessor().subscribe(function(value) {\\n                var str = JSON.stringify(value);\\n                if ((str == \\\"0\\\") && ([\\\"-0\\\", \\\"-0.\\\"].indexOf(stringified()) >= 0))\\n                     return;\\n                 if ([\\\"null\\\", \\\"\\\"].indexOf(str) >= 0)\\n                     return;\\n                stringified(str);\\n            });\\n            ko.applyBindingsToNode(\\n                element,\\n                {\\n                    value: stringified,\\n                    valueUpdate: allBindings.get('valueUpdate'),\\n                },\\n                context,\\n            );\\n        }\\n    };\\n    var json_data = {\\\"formatted_vals\\\":[\\\"-2.0\\\",\\\"-1.95\\\",\\\"-1.9\\\",\\\"-1.85\\\",\\\"-1.8\\\",\\\"-1.75\\\",\\\"-1.7\\\",\\\"-1.65\\\",\\\"-1.6\\\",\\\"-1.55\\\",\\\"-1.5\\\",\\\"-1.45\\\",\\\"-1.4\\\",\\\"-1.35\\\",\\\"-1.3\\\",\\\"-1.25\\\",\\\"-1.2\\\",\\\"-1.15\\\",\\\"-1.1\\\",\\\"-1.05\\\",\\\"-1.0\\\",\\\"-0.95\\\",\\\"-0.9\\\",\\\"-0.85\\\",\\\"-0.8\\\",\\\"-0.75\\\",\\\"-0.7\\\",\\\"-0.65\\\",\\\"-0.6\\\",\\\"-0.55\\\",\\\"-0.5\\\",\\\"-0.45\\\",\\\"-0.4\\\",\\\"-0.35\\\",\\\"-0.3\\\",\\\"-0.25\\\",\\\"-0.2\\\",\\\"-0.15\\\",\\\"-0.1\\\",\\\"-0.05\\\",\\\"0.0\\\",\\\"0.05\\\",\\\"0.1\\\",\\\"0.15\\\",\\\"0.2\\\",\\\"0.25\\\",\\\"0.3\\\",\\\"0.35\\\",\\\"0.4\\\",\\\"0.45\\\",\\\"0.5\\\",\\\"0.55\\\",\\\"0.6\\\",\\\"0.65\\\",\\\"0.7\\\",\\\"0.75\\\",\\\"0.8\\\",\\\"0.85\\\",\\\"0.9\\\",\\\"0.95\\\",\\\"1.0\\\",\\\"1.05\\\",\\\"1.1\\\",\\\"1.15\\\",\\\"1.2\\\",\\\"1.25\\\",\\\"1.3\\\",\\\"1.35\\\",\\\"1.4\\\",\\\"1.45\\\",\\\"1.5\\\",\\\"1.55\\\",\\\"1.6\\\",\\\"1.65\\\",\\\"1.7\\\",\\\"1.75\\\",\\\"1.8\\\",\\\"1.85\\\",\\\"1.9\\\",\\\"1.95\\\",\\\"2.0\\\"],\\\"changes\\\":WebIO.getval({\\\"name\\\":\\\"changes\\\",\\\"scope\\\":\\\"4488159928220768087\\\",\\\"id\\\":\\\"3\\\",\\\"type\\\":\\\"observable\\\"}),\\\"index\\\":WebIO.getval({\\\"name\\\":\\\"index\\\",\\\"scope\\\":\\\"4488159928220768087\\\",\\\"id\\\":\\\"2\\\",\\\"type\\\":\\\"observable\\\"})};\\n    var self = this;\\n    function AppViewModel() {\\n        for (var key in json_data) {\\n            var el = json_data[key];\\n            this[key] = Array.isArray(el) ? ko.observableArray(el) : ko.observable(el);\\n        }\\n        \\n        [this[\\\"formatted_val\\\"]=ko.computed(    function(){\\n        return this.formatted_vals()[parseInt(this.index())-(1)];\\n    }\\n,this)]\\n        [this[\\\"changes\\\"].subscribe((function (val){!(this.valueFromJulia[\\\"changes\\\"]) ? (WebIO.setval({\\\"name\\\":\\\"changes\\\",\\\"scope\\\":\\\"4488159928220768087\\\",\\\"id\\\":\\\"3\\\",\\\"type\\\":\\\"observable\\\"},val)) : undefined; return this.valueFromJulia[\\\"changes\\\"]=false}),self),this[\\\"index\\\"].subscribe((function (val){!(this.valueFromJulia[\\\"index\\\"]) ? (WebIO.setval({\\\"name\\\":\\\"index\\\",\\\"scope\\\":\\\"4488159928220768087\\\",\\\"id\\\":\\\"2\\\",\\\"type\\\":\\\"observable\\\"},val)) : undefined; return this.valueFromJulia[\\\"index\\\"]=false}),self)]\\n        \\n    }\\n    self.model = new AppViewModel();\\n    self.valueFromJulia = {};\\n    for (var key in json_data) {\\n        self.valueFromJulia[key] = false;\\n    }\\n    ko.applyBindings(self.model, self.dom);\\n}\\n);\\n    (WebIO.importBlock({\\\"data\\\":[{\\\"name\\\":\\\"knockout\\\",\\\"type\\\":\\\"js\\\",\\\"url\\\":\\\"\\/assetserver\\/3a4e929e1247ddcb940724c9d5e4ccd400680bc1-knockout.js\\\"},{\\\"name\\\":\\\"knockout_punches\\\",\\\"type\\\":\\\"js\\\",\\\"url\\\":\\\"\\/assetserver\\/9ca207215f568ec5d0d75f182ccbdbd8dd906e15-knockout_punches.js\\\"}],\\\"type\\\":\\\"async_block\\\"})).then((imports) => handler.apply(this, imports));\\n}\\n\"],\"observables\":{\"changes\":{\"sync\":false,\"id\":\"3\",\"value\":0},\"index\":{\"sync\":true,\"id\":\"2\",\"value\":41}}},\"children\":[{\"props\":{\"className\":\"interact-flex-row interact-widget\"},\"nodeType\":\"DOM\",\"type\":\"node\",\"instanceArgs\":{\"namespace\":\"html\",\"tag\":\"div\"},\"children\":[{\"props\":{\"className\":\"interact-flex-row-left\"},\"nodeType\":\"DOM\",\"type\":\"node\",\"instanceArgs\":{\"namespace\":\"html\",\"tag\":\"div\"},\"children\":[{\"props\":{\"className\":\"interact \",\"style\":{\"padding\":\"5px 10px 0px 10px\"}},\"nodeType\":\"DOM\",\"type\":\"node\",\"instanceArgs\":{\"namespace\":\"html\",\"tag\":\"label\"},\"children\":[\"K1\"]}]},{\"props\":{\"className\":\"interact-flex-row-center\"},\"nodeType\":\"DOM\",\"type\":\"node\",\"instanceArgs\":{\"namespace\":\"html\",\"tag\":\"div\"},\"children\":[{\"props\":{\"max\":81,\"min\":1,\"attributes\":{\"type\":\"range\",\"data-bind\":\"numericValue: index, valueUpdate: 'input', event: {change: function (){this.changes(this.changes()+1)}}\",\"orient\":\"horizontal\"},\"step\":1,\"className\":\"slider slider is-fullwidth\",\"style\":{}},\"nodeType\":\"DOM\",\"type\":\"node\",\"instanceArgs\":{\"namespace\":\"html\",\"tag\":\"input\"},\"children\":[]}]},{\"props\":{\"className\":\"interact-flex-row-right\"},\"nodeType\":\"DOM\",\"type\":\"node\",\"instanceArgs\":{\"namespace\":\"html\",\"tag\":\"div\"},\"children\":[{\"props\":{\"attributes\":{\"data-bind\":\"text: formatted_val\"}},\"nodeType\":\"DOM\",\"type\":\"node\",\"instanceArgs\":{\"namespace\":\"html\",\"tag\":\"p\"},\"children\":[]}]}]}]}]},{\"props\":{},\"nodeType\":\"Scope\",\"type\":\"node\",\"instanceArgs\":{\"imports\":{\"data\":[],\"type\":\"async_block\"},\"id\":\"2512531703431586013\",\"handlers\":{},\"systemjs_options\":null,\"mount_callbacks\":[],\"observables\":{\"obs-node\":{\"sync\":false,\"id\":\"7\",\"value\":{\"props\":{\"className\":\"interact-flex-row interact-widget\"},\"nodeType\":\"DOM\",\"type\":\"node\",\"instanceArgs\":{\"namespace\":\"html\",\"tag\":\"div\"},\"children\":[{\"props\":{\"setInnerHtml\":\"    <div id=\\\"d4dbb239-1f1f-43c3-a93e-f3cf4bc37523\\\" style=\\\"width:600px;height:400px;\\\"><\\/div>\\n    <script>\\n        requirejs.config({\\n        paths: {\\n            plotly: 'https:\\/\\/cdn.plot.ly\\/plotly-2.6.3.min'\\n        }\\n    });\\n    require(['plotly'], function (Plotly) {\\n\\n    Plotly.newPlot('d4dbb239-1f1f-43c3-a93e-f3cf4bc37523', [\\n    {\\n        \\\"xaxis\\\": \\\"x\\\",\\n        \\\"colorbar\\\": {\\n            \\\"y\\\": 0.5086805555555556,\\n            \\\"title\\\": \\\"\\\",\\n            \\\"len\\\": 0.8657316272965879,\\n            \\\"x\\\": 0.9934383202099737\\n        },\\n        \\\"yaxis\\\": \\\"y\\\",\\n        \\\"text\\\": [\\n            \\\"Root Locus<br>K1: 0.00<br>R1: 0.00 + 10.00j<br>R2: -0.00 + -10.00j\\\",\\n            \\\"Root Locus<br>K1: 0.00<br>R1: 0.00 + 10.00j<br>R2: -0.00 + -10.00j\\\"\\n        ],\\n        \\\"x\\\": [\\n            0.0,\\n            -0.0\\n        ],\\n        \\\"showlegend\\\": true,\\n        \\\"mode\\\": \\\"markers\\\",\\n        \\\"name\\\": \\\"y2\\\",\\n        \\\"legendgroup\\\": \\\"y2\\\",\\n        \\\"marker\\\": {\\n            \\\"symbol\\\": \\\"circle\\\",\\n            \\\"color\\\": \\\"rgba(128, 128, 128, 1.000)\\\",\\n            \\\"line\\\": {\\n                \\\"color\\\": \\\"rgba(0, 0, 0, 1.000)\\\",\\n                \\\"width\\\": 1\\n            },\\n            \\\"size\\\": 10\\n        },\\n        \\\"y\\\": [\\n            10.0,\\n            -10.0\\n        ],\\n        \\\"type\\\": \\\"scatter\\\",\\n        \\\"hoverinfo\\\": \\\"text\\\"\\n    }\\n]\\n, {\\n    \\\"showlegend\\\": false,\\n    \\\"xaxis\\\": {\\n        \\\"showticklabels\\\": true,\\n        \\\"gridwidth\\\": 0.5,\\n        \\\"tickvals\\\": [\\n            0.0,\\n            0.25,\\n            0.5,\\n            0.75,\\n            1.0\\n        ],\\n        \\\"range\\\": [\\n            -0.030000000000000027,\\n            1.03\\n        ],\\n        \\\"domain\\\": [\\n            0.07646908719743364,\\n            0.9934383202099737\\n        ],\\n        \\\"mirror\\\": false,\\n        \\\"tickangle\\\": 0,\\n        \\\"showline\\\": true,\\n        \\\"ticktext\\\": [\\n            \\\"0.00\\\",\\n            \\\"0.25\\\",\\n            \\\"0.50\\\",\\n            \\\"0.75\\\",\\n            \\\"1.00\\\"\\n        ],\\n        \\\"zeroline\\\": false,\\n        \\\"tickfont\\\": {\\n            \\\"color\\\": \\\"rgba(0, 0, 0, 1.000)\\\",\\n            \\\"family\\\": \\\"sans-serif\\\",\\n            \\\"size\\\": 11\\n        },\\n        \\\"zerolinecolor\\\": \\\"rgba(0, 0, 0, 1.000)\\\",\\n        \\\"anchor\\\": \\\"y\\\",\\n        \\\"visible\\\": true,\\n        \\\"ticks\\\": \\\"inside\\\",\\n        \\\"tickmode\\\": \\\"array\\\",\\n        \\\"linecolor\\\": \\\"rgba(0, 0, 0, 1.000)\\\",\\n        \\\"showgrid\\\": true,\\n        \\\"title\\\": \\\"Re(s)\\\",\\n        \\\"gridcolor\\\": \\\"rgba(0, 0, 0, 0.100)\\\",\\n        \\\"titlefont\\\": {\\n            \\\"color\\\": \\\"rgba(0, 0, 0, 1.000)\\\",\\n            \\\"family\\\": \\\"sans-serif\\\",\\n            \\\"size\\\": 15\\n        },\\n        \\\"tickcolor\\\": \\\"rgb(0, 0, 0)\\\",\\n        \\\"type\\\": \\\"-\\\"\\n    },\\n    \\\"paper_bgcolor\\\": \\\"rgba(255, 255, 255, 1.000)\\\",\\n    \\\"annotations\\\": [\\n        {\\n            \\\"yanchor\\\": \\\"top\\\",\\n            \\\"xanchor\\\": \\\"center\\\",\\n            \\\"rotation\\\": -0.0,\\n            \\\"y\\\": 1.0,\\n            \\\"font\\\": {\\n                \\\"color\\\": \\\"rgba(0, 0, 0, 1.000)\\\",\\n                \\\"family\\\": \\\"sans-serif\\\",\\n                \\\"size\\\": 20\\n            },\\n            \\\"yref\\\": \\\"paper\\\",\\n            \\\"showarrow\\\": false,\\n            \\\"text\\\": \\\"Root Locus\\\",\\n            \\\"xref\\\": \\\"paper\\\",\\n            \\\"x\\\": 0.5349537037037038\\n        }\\n    ],\\n    \\\"height\\\": 400,\\n    \\\"margin\\\": {\\n        \\\"l\\\": 0,\\n        \\\"b\\\": 20,\\n        \\\"r\\\": 0,\\n        \\\"t\\\": 20\\n    },\\n    \\\"plot_bgcolor\\\": \\\"rgba(255, 255, 255, 1.000)\\\",\\n    \\\"yaxis\\\": {\\n        \\\"showticklabels\\\": true,\\n        \\\"gridwidth\\\": 0.5,\\n        \\\"tickvals\\\": [\\n            -10.0,\\n            -5.0,\\n            0.0,\\n            5.0,\\n            10.0\\n        ],\\n        \\\"range\\\": [\\n            -10.600000000000001,\\n            10.600000000000001\\n        ],\\n        \\\"domain\\\": [\\n            0.07581474190726165,\\n            0.9415463692038496\\n        ],\\n        \\\"mirror\\\": false,\\n        \\\"tickangle\\\": 0,\\n        \\\"showline\\\": true,\\n        \\\"ticktext\\\": [\\n            \\\"−10\\\",\\n            \\\"−5\\\",\\n            \\\"0\\\",\\n            \\\"5\\\",\\n            \\\"10\\\"\\n        ],\\n        \\\"zeroline\\\": false,\\n        \\\"tickfont\\\": {\\n            \\\"color\\\": \\\"rgba(0, 0, 0, 1.000)\\\",\\n            \\\"family\\\": \\\"sans-serif\\\",\\n            \\\"size\\\": 11\\n        },\\n        \\\"zerolinecolor\\\": \\\"rgba(0, 0, 0, 1.000)\\\",\\n        \\\"anchor\\\": \\\"x\\\",\\n        \\\"visible\\\": true,\\n        \\\"ticks\\\": \\\"inside\\\",\\n        \\\"tickmode\\\": \\\"array\\\",\\n        \\\"linecolor\\\": \\\"rgba(0, 0, 0, 1.000)\\\",\\n        \\\"showgrid\\\": true,\\n        \\\"title\\\": \\\"Im(s)\\\",\\n        \\\"gridcolor\\\": \\\"rgba(0, 0, 0, 0.100)\\\",\\n        \\\"titlefont\\\": {\\n            \\\"color\\\": \\\"rgba(0, 0, 0, 1.000)\\\",\\n            \\\"family\\\": \\\"sans-serif\\\",\\n            \\\"size\\\": 15\\n        },\\n        \\\"tickcolor\\\": \\\"rgb(0, 0, 0)\\\",\\n        \\\"type\\\": \\\"-\\\"\\n    },\\n    \\\"width\\\": 600\\n}\\n);\\n    });\\n    <\\/script>\\n\"},\"nodeType\":\"DOM\",\"type\":\"node\",\"instanceArgs\":{\"namespace\":\"html\",\"tag\":\"div\"},\"children\":[]}]}}}},\"children\":[{\"props\":{},\"nodeType\":\"ObservableNode\",\"type\":\"node\",\"instanceArgs\":{\"id\":\"7\",\"name\":\"obs-node\"},\"children\":[]}]}]},\n",
       "        window,\n",
       "    );\n",
       "    })()\n",
       "    </script>\n",
       "</div>\n"
      ],
      "text/plain": [
       "WebIO.Node{WebIO.DOM}(WebIO.DOM(:html, :div), Any[WebIO.Node{WebIO.DOM}(WebIO.DOM(:html, :div), Any[WebIO.Scope(WebIO.Node{WebIO.DOM}(WebIO.DOM(:html, :div), Any[WebIO.Node{WebIO.DOM}(WebIO.DOM(:html, :div), Any[WebIO.Node{WebIO.DOM}(WebIO.DOM(:html, :label), Any[\"K1\"], Dict{Symbol, Any}(:className => \"interact \", :style => Dict{Any, Any}(:padding => \"5px 10px 0px 10px\")))], Dict{Symbol, Any}(:className => \"interact-flex-row-left\")), WebIO.Node{WebIO.DOM}(WebIO.DOM(:html, :div), Any[WebIO.Node{WebIO.DOM}(WebIO.DOM(:html, :input), Any[], Dict{Symbol, Any}(:max => 81, :min => 1, :attributes => Dict{Any, Any}(:type => \"range\", Symbol(\"data-bind\") => \"numericValue: index, valueUpdate: 'input', event: {change: function (){this.changes(this.changes()+1)}}\", \"orient\" => \"horizontal\"), :step => 1, :className => \"slider slider is-fullwidth\", :style => Dict{Any, Any}()))], Dict{Symbol, Any}(:className => \"interact-flex-row-center\")), WebIO.Node{WebIO.DOM}(WebIO.DOM(:html, :div), Any[WebIO.Node{WebIO.DOM}(WebIO.DOM(:html, :p), Any[], Dict{Symbol, Any}(:attributes => Dict(\"data-bind\" => \"text: formatted_val\")))], Dict{Symbol, Any}(:className => \"interact-flex-row-right\"))], Dict{Symbol, Any}(:className => \"interact-flex-row interact-widget\")), Dict{String, Tuple{Observables.AbstractObservable, Union{Nothing, Bool}}}(\"changes\" => (Observable(0), nothing), \"index\" => (Observable{Any}(41), nothing)), Set{String}(), nothing, WebIO.Asset[WebIO.Asset(\"js\", \"knockout\", \"/Users/rma/.julia/packages/Knockout/HReiN/src/../assets/knockout.js\"), WebIO.Asset(\"js\", \"knockout_punches\", \"/Users/rma/.julia/packages/Knockout/HReiN/src/../assets/knockout_punches.js\"), WebIO.Asset(\"js\", nothing, \"/Users/rma/.julia/packages/InteractBase/LJXv3/src/../assets/all.js\"), WebIO.Asset(\"css\", nothing, \"/Users/rma/.julia/packages/InteractBase/LJXv3/src/../assets/style.css\"), WebIO.Asset(\"css\", nothing, \"/Users/rma/.julia/packages/Interact/PENUy/src/../assets/bulma_confined.min.css\")], Dict{Any, Any}(\"changes\" => Any[WebIO.JSString(\"(function (val){return (val!=this.model[\\\"changes\\\"]()) ? (this.valueFromJulia[\\\"changes\\\"]=true, this.model[\\\"changes\\\"](val)) : undefined})\")], \"index\" => Any[WebIO.JSString(\"(function (val){return (val!=this.model[\\\"index\\\"]()) ? (this.valueFromJulia[\\\"index\\\"]=true, this.model[\\\"index\\\"](val)) : undefined})\")]), WebIO.ConnectionPool(Channel{Any}(32), Set{WebIO.AbstractConnection}(), Base.GenericCondition{ReentrantLock}(Base.IntrusiveLinkedList{Task}(Task (runnable, started) @0x00000003210aa720, Task (runnable, started) @0x00000003210aa720), ReentrantLock(nothing, 0x00000000, 0x00, Base.GenericCondition{Base.Threads.SpinLock}(Base.IntrusiveLinkedList{Task}(nothing, nothing), Base.Threads.SpinLock(0)), (4477987312, 4483574800, 142803643877)))), WebIO.JSString[WebIO.JSString(\"function () {\\n    var handler = (function (ko, koPunches) {\\n    ko.punches.enableAll();\\n    ko.bindingHandlers.numericValue = {\\n        init: function(element, valueAccessor, allBindings, data, context) {\\n            var stringified = ko.observable(ko.unwrap(valueAccessor()));\\n            stringified.subscribe(function(value) {\\n                var val = parseFloat(value);\\n                if (!isNaN(val)) {\\n                    valueAccessor()(val);\\n                }\\n            });\\n            valueAccessor().subscribe(function(value) {\\n                var str = JSON.stringify(value);\\n                if ((str == \\\"0\\\") && ([\\\"-0\\\", \\\"-0.\\\"].indexOf(stringified()) >= 0))\\n                     return;\\n                 if ([\\\"null\\\", \\\"\\\"].indexOf(str) >= 0)\\n                     return;\\n                stringified(str);\\n            });\\n            ko.applyBindingsToNode(\\n                element,\\n                {\\n                    value: stringified,\\n                    valueUpdate: allBindings.get('valueUpdate'),\\n                },\\n                context,\\n            );\\n        }\\n    };\\n    var json_data = {\\\"formatted_vals\\\":[\\\"-2.0\\\",\\\"-1.95\\\",\\\"-1.9\\\",\\\"-1.85\\\",\\\"-1.8\\\",\\\"-1.75\\\",\\\"-1.7\\\",\\\"-1.65\\\",\\\"-1.6\\\",\\\"-1.55\\\",\\\"-1.5\\\",\\\"-1.45\\\",\\\"-1.4\\\",\\\"-1.35\\\",\\\"-1.3\\\",\\\"-1.25\\\",\\\"-1.2\\\",\\\"-1.15\\\",\\\"-1.1\\\",\\\"-1.05\\\",\\\"-1.0\\\",\\\"-0.95\\\",\\\"-0.9\\\",\\\"-0.85\\\",\\\"-0.8\\\",\\\"-0.75\\\",\\\"-0.7\\\",\\\"-0.65\\\",\\\"-0.6\\\",\\\"-0.55\\\",\\\"-0.5\\\",\\\"-0.45\\\",\\\"-0.4\\\",\\\"-0.35\\\",\\\"-0.3\\\",\\\"-0.25\\\",\\\"-0.2\\\",\\\"-0.15\\\",\\\"-0.1\\\",\\\"-0.05\\\",\\\"0.0\\\",\\\"0.05\\\",\\\"0.1\\\",\\\"0.15\\\",\\\"0.2\\\",\\\"0.25\\\",\\\"0.3\\\",\\\"0.35\\\",\\\"0.4\\\",\\\"0.45\\\",\\\"0.5\\\",\\\"0.55\\\",\\\"0.6\\\",\\\"0.65\\\",\\\"0.7\\\",\\\"0.75\\\",\\\"0.8\\\",\\\"0.85\\\",\\\"0.9\\\",\\\"0.95\\\",\\\"1.0\\\",\\\"1.05\\\",\\\"1.1\\\",\\\"1.15\\\",\\\"1.2\\\",\\\"1.25\\\",\\\"1.3\\\",\\\"1.35\\\",\\\"1.4\\\",\\\"1.45\\\",\\\"1.5\\\",\\\"1.55\\\",\\\"1.6\\\",\\\"1.65\\\",\\\"1.7\\\",\\\"1.75\\\",\\\"1.8\\\",\\\"1.85\\\",\\\"1.9\\\",\\\"1.95\\\",\\\"2.0\\\"],\\\"changes\\\":WebIO.getval({\\\"name\\\":\\\"changes\\\",\\\"scope\\\":\\\"4488159928220768087\\\",\\\"id\\\":\\\"3\\\",\\\"type\\\":\\\"observable\\\"}),\\\"index\\\":WebIO.getval({\\\"name\\\":\\\"index\\\",\\\"scope\\\":\\\"4488159928220768087\\\",\\\"id\\\":\\\"2\\\",\\\"type\\\":\\\"observable\\\"})};\\n    var self = this;\\n    function AppViewModel() {\\n        for (var key in json_data) {\\n            var el = json_data[key];\\n            this[key] = Array.isArray(el) ? ko.observableArray(el) : ko.observable(el);\\n        }\\n        \\n        [this[\\\"formatted_val\\\"]=ko.computed(    function(){\\n        return this.formatted_vals()[parseInt(this.index())-(1)];\\n    }\\n,this)]\\n        [this[\\\"changes\\\"].subscribe((function (val){!(this.valueFromJulia[\\\"changes\\\"]) ? (WebIO.setval({\\\"name\\\":\\\"changes\\\",\\\"scope\\\":\\\"4488159928220768087\\\",\\\"id\\\":\\\"3\\\",\\\"type\\\":\\\"observable\\\"},val)) : undefined; return this.valueFromJulia[\\\"changes\\\"]=false}),self),this[\\\"index\\\"].subscribe((function (val){!(this.valueFromJulia[\\\"index\\\"]) ? (WebIO.setval({\\\"name\\\":\\\"index\\\",\\\"scope\\\":\\\"4488159928220768087\\\",\\\"id\\\":\\\"2\\\",\\\"type\\\":\\\"observable\\\"},val)) : undefined; return this.valueFromJulia[\\\"index\\\"]=false}),self)]\\n        \\n    }\\n    self.model = new AppViewModel();\\n    self.valueFromJulia = {};\\n    for (var key in json_data) {\\n        self.valueFromJulia[key] = false;\\n    }\\n    ko.applyBindings(self.model, self.dom);\\n}\\n);\\n    (WebIO.importBlock({\\\"data\\\":[{\\\"name\\\":\\\"knockout\\\",\\\"type\\\":\\\"js\\\",\\\"url\\\":\\\"/assetserver/3a4e929e1247ddcb940724c9d5e4ccd400680bc1-knockout.js\\\"},{\\\"name\\\":\\\"knockout_punches\\\",\\\"type\\\":\\\"js\\\",\\\"url\\\":\\\"/assetserver/9ca207215f568ec5d0d75f182ccbdbd8dd906e15-knockout_punches.js\\\"}],\\\"type\\\":\\\"async_block\\\"})).then((imports) => handler.apply(this, imports));\\n}\\n\")])], Dict{Symbol, Any}(:className => \"field interact-widget\")), Observable(WebIO.Node{WebIO.DOM}(WebIO.DOM(:html, :div), Any[Plot{Plots.PlotlyBackend() n=2}\n",
       "Captured extra kwargs:\n",
       "  Series{1}:\n",
       "    hoverinfo: text\n",
       "  Series{2}:\n",
       "    hoverinfo: text\n",
       "], Dict{Symbol, Any}(:className => \"interact-flex-row interact-widget\")))], Dict{Symbol, Any}())"
      ]
     },
     "execution_count": 2,
     "metadata": {
      "application/vnd.webio.node+json": {
       "kernelId": "25fd1084-63d0-4476-b9c1-b3541ad9f3c5"
      }
     },
     "output_type": "execute_result"
    }
   ],
   "source": [
    "# First-loop quadratic roots from derivation above\n",
    "first_roots(K1) = [\n",
    "    (-K1 + sqrt(Complex(K1^2 - 400*(1 - K1))))/2,\n",
    "    (-K1 - sqrt(Complex(K1^2 - 400*(1 - K1))))/2\n",
    "]\n",
    "\n",
    "interactive_root_locus(first_roots, -2:.05:2)"
   ]
  },
  {
   "cell_type": "markdown",
   "metadata": {},
   "source": [
    "Take a look the behavior as you increase $K_1$ to arbitrarily large values! As gain increases, the negative zero approaches infinity while the positive zero approaches some constant value. As Gain decreases, the zeros make a circle in the imaginary part into the right half s-plane. Then when they converge back on the real axis one zero goes to infinity while another goes to some finite positive value.\n",
    "\n",
    "There is a beautiful symmetry to quadratic roots.\n",
    "- Is it possible for asymptotic roots to cross on the real axis?\n",
    "- Why is the magnitude of difference in the imaginary axis larger when roots are closer to the real axis? Can it be explained using Euler's formula?"
   ]
  },
  {
   "cell_type": "code",
   "execution_count": 3,
   "metadata": {},
   "outputs": [
    {
     "data": {
      "application/vnd.webio.node+json": {
       "children": [
        {
         "children": [
          {
           "children": [
            {
             "children": [
              {
               "children": [
                {
                 "children": [
                  "K1"
                 ],
                 "instanceArgs": {
                  "namespace": "html",
                  "tag": "label"
                 },
                 "nodeType": "DOM",
                 "props": {
                  "className": "interact ",
                  "style": {
                   "padding": "5px 10px 0px 10px"
                  }
                 },
                 "type": "node"
                }
               ],
               "instanceArgs": {
                "namespace": "html",
                "tag": "div"
               },
               "nodeType": "DOM",
               "props": {
                "className": "interact-flex-row-left"
               },
               "type": "node"
              },
              {
               "children": [
                {
                 "children": [],
                 "instanceArgs": {
                  "namespace": "html",
                  "tag": "input"
                 },
                 "nodeType": "DOM",
                 "props": {
                  "attributes": {
                   "data-bind": "numericValue: index, valueUpdate: 'input', event: {change: function (){this.changes(this.changes()+1)}}",
                   "orient": "horizontal",
                   "type": "range"
                  },
                  "className": "slider slider is-fullwidth",
                  "max": 101,
                  "min": 1,
                  "step": 1,
                  "style": {}
                 },
                 "type": "node"
                }
               ],
               "instanceArgs": {
                "namespace": "html",
                "tag": "div"
               },
               "nodeType": "DOM",
               "props": {
                "className": "interact-flex-row-center"
               },
               "type": "node"
              },
              {
               "children": [
                {
                 "children": [],
                 "instanceArgs": {
                  "namespace": "html",
                  "tag": "p"
                 },
                 "nodeType": "DOM",
                 "props": {
                  "attributes": {
                   "data-bind": "text: formatted_val"
                  }
                 },
                 "type": "node"
                }
               ],
               "instanceArgs": {
                "namespace": "html",
                "tag": "div"
               },
               "nodeType": "DOM",
               "props": {
                "className": "interact-flex-row-right"
               },
               "type": "node"
              }
             ],
             "instanceArgs": {
              "namespace": "html",
              "tag": "div"
             },
             "nodeType": "DOM",
             "props": {
              "className": "interact-flex-row interact-widget"
             },
             "type": "node"
            }
           ],
           "instanceArgs": {
            "handlers": {
             "changes": [
              "(function (val){return (val!=this.model[\"changes\"]()) ? (this.valueFromJulia[\"changes\"]=true, this.model[\"changes\"](val)) : undefined})"
             ],
             "index": [
              "(function (val){return (val!=this.model[\"index\"]()) ? (this.valueFromJulia[\"index\"]=true, this.model[\"index\"](val)) : undefined})"
             ]
            },
            "id": "16549725655733504176",
            "imports": {
             "data": [
              {
               "name": "knockout",
               "type": "js",
               "url": "/assetserver/3a4e929e1247ddcb940724c9d5e4ccd400680bc1-knockout.js"
              },
              {
               "name": "knockout_punches",
               "type": "js",
               "url": "/assetserver/9ca207215f568ec5d0d75f182ccbdbd8dd906e15-knockout_punches.js"
              },
              {
               "name": null,
               "type": "js",
               "url": "/assetserver/c96662358d6cb2449f867353aa479fa9dac5fe24-all.js"
              },
              {
               "name": null,
               "type": "css",
               "url": "/assetserver/e6425ae419f0dcdfbee7713f9a874d7d1a17a3b6-style.css"
              },
              {
               "name": null,
               "type": "css",
               "url": "/assetserver/22f71783ac1f8a0d451a6a1c32dcfc248cf4d450-bulma_confined.min.css"
              }
             ],
             "type": "async_block"
            },
            "mount_callbacks": [
             "function () {\n    var handler = (function (ko, koPunches) {\n    ko.punches.enableAll();\n    ko.bindingHandlers.numericValue = {\n        init: function(element, valueAccessor, allBindings, data, context) {\n            var stringified = ko.observable(ko.unwrap(valueAccessor()));\n            stringified.subscribe(function(value) {\n                var val = parseFloat(value);\n                if (!isNaN(val)) {\n                    valueAccessor()(val);\n                }\n            });\n            valueAccessor().subscribe(function(value) {\n                var str = JSON.stringify(value);\n                if ((str == \"0\") && ([\"-0\", \"-0.\"].indexOf(stringified()) >= 0))\n                     return;\n                 if ([\"null\", \"\"].indexOf(str) >= 0)\n                     return;\n                stringified(str);\n            });\n            ko.applyBindingsToNode(\n                element,\n                {\n                    value: stringified,\n                    valueUpdate: allBindings.get('valueUpdate'),\n                },\n                context,\n            );\n        }\n    };\n    var json_data = {\"formatted_vals\":[\"-600\",\"-590\",\"-580\",\"-570\",\"-560\",\"-550\",\"-540\",\"-530\",\"-520\",\"-510\",\"-500\",\"-490\",\"-480\",\"-470\",\"-460\",\"-450\",\"-440\",\"-430\",\"-420\",\"-410\",\"-400\",\"-390\",\"-380\",\"-370\",\"-360\",\"-350\",\"-340\",\"-330\",\"-320\",\"-310\",\"-300\",\"-290\",\"-280\",\"-270\",\"-260\",\"-250\",\"-240\",\"-230\",\"-220\",\"-210\",\"-200\",\"-190\",\"-180\",\"-170\",\"-160\",\"-150\",\"-140\",\"-130\",\"-120\",\"-110\",\"-100\",\"-90\",\"-80\",\"-70\",\"-60\",\"-50\",\"-40\",\"-30\",\"-20\",\"-10\",\"0\",\"10\",\"20\",\"30\",\"40\",\"50\",\"60\",\"70\",\"80\",\"90\",\"100\",\"110\",\"120\",\"130\",\"140\",\"150\",\"160\",\"170\",\"180\",\"190\",\"200\",\"210\",\"220\",\"230\",\"240\",\"250\",\"260\",\"270\",\"280\",\"290\",\"300\",\"310\",\"320\",\"330\",\"340\",\"350\",\"360\",\"370\",\"380\",\"390\",\"400\"],\"changes\":WebIO.getval({\"name\":\"changes\",\"scope\":\"16549725655733504176\",\"id\":\"12\",\"type\":\"observable\"}),\"index\":WebIO.getval({\"name\":\"index\",\"scope\":\"16549725655733504176\",\"id\":\"11\",\"type\":\"observable\"})};\n    var self = this;\n    function AppViewModel() {\n        for (var key in json_data) {\n            var el = json_data[key];\n            this[key] = Array.isArray(el) ? ko.observableArray(el) : ko.observable(el);\n        }\n        \n        [this[\"formatted_val\"]=ko.computed(    function(){\n        return this.formatted_vals()[parseInt(this.index())-(1)];\n    }\n,this)]\n        [this[\"changes\"].subscribe((function (val){!(this.valueFromJulia[\"changes\"]) ? (WebIO.setval({\"name\":\"changes\",\"scope\":\"16549725655733504176\",\"id\":\"12\",\"type\":\"observable\"},val)) : undefined; return this.valueFromJulia[\"changes\"]=false}),self),this[\"index\"].subscribe((function (val){!(this.valueFromJulia[\"index\"]) ? (WebIO.setval({\"name\":\"index\",\"scope\":\"16549725655733504176\",\"id\":\"11\",\"type\":\"observable\"},val)) : undefined; return this.valueFromJulia[\"index\"]=false}),self)]\n        \n    }\n    self.model = new AppViewModel();\n    self.valueFromJulia = {};\n    for (var key in json_data) {\n        self.valueFromJulia[key] = false;\n    }\n    ko.applyBindings(self.model, self.dom);\n}\n);\n    (WebIO.importBlock({\"data\":[{\"name\":\"knockout\",\"type\":\"js\",\"url\":\"/assetserver/3a4e929e1247ddcb940724c9d5e4ccd400680bc1-knockout.js\"},{\"name\":\"knockout_punches\",\"type\":\"js\",\"url\":\"/assetserver/9ca207215f568ec5d0d75f182ccbdbd8dd906e15-knockout_punches.js\"}],\"type\":\"async_block\"})).then((imports) => handler.apply(this, imports));\n}\n"
            ],
            "observables": {
             "changes": {
              "id": "12",
              "sync": false,
              "value": 0
             },
             "index": {
              "id": "11",
              "sync": true,
              "value": 51
             }
            },
            "systemjs_options": null
           },
           "nodeType": "Scope",
           "props": {},
           "type": "node"
          }
         ],
         "instanceArgs": {
          "namespace": "html",
          "tag": "div"
         },
         "nodeType": "DOM",
         "props": {
          "className": "field interact-widget"
         },
         "type": "node"
        },
        {
         "children": [
          {
           "children": [],
           "instanceArgs": {
            "id": "18",
            "name": "obs-node"
           },
           "nodeType": "ObservableNode",
           "props": {},
           "type": "node"
          }
         ],
         "instanceArgs": {
          "handlers": {},
          "id": "12082256807184927553",
          "imports": {
           "data": [],
           "type": "async_block"
          },
          "mount_callbacks": [],
          "observables": {
           "obs-node": {
            "id": "18",
            "sync": false,
            "value": {
             "children": [
              {
               "children": [],
               "instanceArgs": {
                "namespace": "html",
                "tag": "div"
               },
               "nodeType": "DOM",
               "props": {
                "setInnerHtml": "    <div id=\"3e3eb8f3-11cd-4acb-8c15-c81777f01d51\" style=\"width:600px;height:400px;\"></div>\n    <script>\n        requirejs.config({\n        paths: {\n            plotly: 'https://cdn.plot.ly/plotly-2.6.3.min'\n        }\n    });\n    require(['plotly'], function (Plotly) {\n\n    Plotly.newPlot('3e3eb8f3-11cd-4acb-8c15-c81777f01d51', [\n    {\n        \"xaxis\": \"x\",\n        \"colorbar\": {\n            \"y\": 0.5086805555555556,\n            \"title\": \"\",\n            \"len\": 0.8657316272965879,\n            \"x\": 0.9934383202099737\n        },\n        \"yaxis\": \"y\",\n        \"text\": [\n            \"Root Locus<br>K1: -100.00<br>R1: 50.00 + 87.18j<br>R2: 50.00 + -87.18j\",\n            \"Root Locus<br>K1: -100.00<br>R1: 50.00 + 87.18j<br>R2: 50.00 + -87.18j\"\n        ],\n        \"x\": [\n            50.0,\n            50.0\n        ],\n        \"showlegend\": true,\n        \"mode\": \"markers\",\n        \"name\": \"y2\",\n        \"legendgroup\": \"y2\",\n        \"marker\": {\n            \"symbol\": \"circle\",\n            \"color\": \"rgba(128, 128, 128, 1.000)\",\n            \"line\": {\n                \"color\": \"rgba(0, 0, 0, 1.000)\",\n                \"width\": 1\n            },\n            \"size\": 10\n        },\n        \"y\": [\n            87.17797887081348,\n            -87.17797887081348\n        ],\n        \"type\": \"scatter\",\n        \"hoverinfo\": \"text\"\n    }\n]\n, {\n    \"showlegend\": false,\n    \"xaxis\": {\n        \"showticklabels\": true,\n        \"gridwidth\": 0.5,\n        \"tickvals\": [\n            50.0,\n            50.25,\n            50.5,\n            50.75,\n            51.0\n        ],\n        \"range\": [\n            49.97,\n            51.03\n        ],\n        \"domain\": [\n            0.07646908719743364,\n            0.9934383202099737\n        ],\n        \"mirror\": false,\n        \"tickangle\": 0,\n        \"showline\": true,\n        \"ticktext\": [\n            \"50.00\",\n            \"50.25\",\n            \"50.50\",\n            \"50.75\",\n            \"51.00\"\n        ],\n        \"zeroline\": false,\n        \"tickfont\": {\n            \"color\": \"rgba(0, 0, 0, 1.000)\",\n            \"family\": \"sans-serif\",\n            \"size\": 11\n        },\n        \"zerolinecolor\": \"rgba(0, 0, 0, 1.000)\",\n        \"anchor\": \"y\",\n        \"visible\": true,\n        \"ticks\": \"inside\",\n        \"tickmode\": \"array\",\n        \"linecolor\": \"rgba(0, 0, 0, 1.000)\",\n        \"showgrid\": true,\n        \"title\": \"Re(s)\",\n        \"gridcolor\": \"rgba(0, 0, 0, 0.100)\",\n        \"titlefont\": {\n            \"color\": \"rgba(0, 0, 0, 1.000)\",\n            \"family\": \"sans-serif\",\n            \"size\": 15\n        },\n        \"tickcolor\": \"rgb(0, 0, 0)\",\n        \"type\": \"-\"\n    },\n    \"paper_bgcolor\": \"rgba(255, 255, 255, 1.000)\",\n    \"annotations\": [\n        {\n            \"yanchor\": \"top\",\n            \"xanchor\": \"center\",\n            \"rotation\": -0.0,\n            \"y\": 1.0,\n            \"font\": {\n                \"color\": \"rgba(0, 0, 0, 1.000)\",\n                \"family\": \"sans-serif\",\n                \"size\": 20\n            },\n            \"yref\": \"paper\",\n            \"showarrow\": false,\n            \"text\": \"Root Locus\",\n            \"xref\": \"paper\",\n            \"x\": 0.5349537037037038\n        }\n    ],\n    \"height\": 400,\n    \"margin\": {\n        \"l\": 0,\n        \"b\": 20,\n        \"r\": 0,\n        \"t\": 20\n    },\n    \"plot_bgcolor\": \"rgba(255, 255, 255, 1.000)\",\n    \"yaxis\": {\n        \"showticklabels\": true,\n        \"gridwidth\": 0.5,\n        \"tickvals\": [\n            -75.0,\n            -50.0,\n            -25.0,\n            0.0,\n            25.0,\n            50.0,\n            75.0\n        ],\n        \"range\": [\n            -92.4086576030623,\n            92.4086576030623\n        ],\n        \"domain\": [\n            0.07581474190726165,\n            0.9415463692038496\n        ],\n        \"mirror\": false,\n        \"tickangle\": 0,\n        \"showline\": true,\n        \"ticktext\": [\n            \"−75\",\n            \"−50\",\n            \"−25\",\n            \"0\",\n            \"25\",\n            \"50\",\n            \"75\"\n        ],\n        \"zeroline\": false,\n        \"tickfont\": {\n            \"color\": \"rgba(0, 0, 0, 1.000)\",\n            \"family\": \"sans-serif\",\n            \"size\": 11\n        },\n        \"zerolinecolor\": \"rgba(0, 0, 0, 1.000)\",\n        \"anchor\": \"x\",\n        \"visible\": true,\n        \"ticks\": \"inside\",\n        \"tickmode\": \"array\",\n        \"linecolor\": \"rgba(0, 0, 0, 1.000)\",\n        \"showgrid\": true,\n        \"title\": \"Im(s)\",\n        \"gridcolor\": \"rgba(0, 0, 0, 0.100)\",\n        \"titlefont\": {\n            \"color\": \"rgba(0, 0, 0, 1.000)\",\n            \"family\": \"sans-serif\",\n            \"size\": 15\n        },\n        \"tickcolor\": \"rgb(0, 0, 0)\",\n        \"type\": \"-\"\n    },\n    \"width\": 600\n}\n);\n    });\n    </script>\n"
               },
               "type": "node"
              }
             ],
             "instanceArgs": {
              "namespace": "html",
              "tag": "div"
             },
             "nodeType": "DOM",
             "props": {
              "className": "interact-flex-row interact-widget"
             },
             "type": "node"
            }
           }
          },
          "systemjs_options": null
         },
         "nodeType": "Scope",
         "props": {},
         "type": "node"
        }
       ],
       "instanceArgs": {
        "namespace": "html",
        "tag": "div"
       },
       "nodeType": "DOM",
       "props": {},
       "type": "node"
      },
      "text/html": [
       "<div\n",
       "    class=\"webio-mountpoint\"\n",
       "    data-webio-mountpoint=\"5945471450620262471\"\n",
       ">\n",
       "    <script>\n",
       "    (function(){\n",
       "    // Some integrations (namely, IJulia/Jupyter) use an alternate render pathway than\n",
       "    // just putting the html on the page. If WebIO isn't defined, then it's pretty likely\n",
       "    // that we're in one of those situations and the integration just isn't installed\n",
       "    // correctly.\n",
       "    if (typeof window.WebIO === \"undefined\") {\n",
       "        document\n",
       "            .querySelector('[data-webio-mountpoint=\"5945471450620262471\"]')\n",
       "            .innerHTML = (\n",
       "                '<div style=\"padding: 1em; background-color: #f8d6da; border: 1px solid #f5c6cb; font-weight: bold;\">' +\n",
       "                '<p><strong>WebIO not detected.</strong></p>' +\n",
       "                '<p>Please read ' +\n",
       "                '<a href=\"https://juliagizmos.github.io/WebIO.jl/latest/troubleshooting/not-detected/\" target=\"_blank\">the troubleshooting guide</a> ' +\n",
       "                'for more information on how to resolve this issue.</p>' +\n",
       "                '<p><a href=\"https://juliagizmos.github.io/WebIO.jl/latest/troubleshooting/not-detected/\" target=\"_blank\">https://juliagizmos.github.io/WebIO.jl/latest/troubleshooting/not-detected/</a></p>' +\n",
       "                '</div>'\n",
       "            );\n",
       "        return;\n",
       "    }\n",
       "    WebIO.mount(\n",
       "        document.querySelector('[data-webio-mountpoint=\"5945471450620262471\"]'),\n",
       "        {\"props\":{},\"nodeType\":\"DOM\",\"type\":\"node\",\"instanceArgs\":{\"namespace\":\"html\",\"tag\":\"div\"},\"children\":[{\"props\":{\"className\":\"field interact-widget\"},\"nodeType\":\"DOM\",\"type\":\"node\",\"instanceArgs\":{\"namespace\":\"html\",\"tag\":\"div\"},\"children\":[{\"props\":{},\"nodeType\":\"Scope\",\"type\":\"node\",\"instanceArgs\":{\"imports\":{\"data\":[{\"name\":\"knockout\",\"type\":\"js\",\"url\":\"\\/assetserver\\/3a4e929e1247ddcb940724c9d5e4ccd400680bc1-knockout.js\"},{\"name\":\"knockout_punches\",\"type\":\"js\",\"url\":\"\\/assetserver\\/9ca207215f568ec5d0d75f182ccbdbd8dd906e15-knockout_punches.js\"},{\"name\":null,\"type\":\"js\",\"url\":\"\\/assetserver\\/c96662358d6cb2449f867353aa479fa9dac5fe24-all.js\"},{\"name\":null,\"type\":\"css\",\"url\":\"\\/assetserver\\/e6425ae419f0dcdfbee7713f9a874d7d1a17a3b6-style.css\"},{\"name\":null,\"type\":\"css\",\"url\":\"\\/assetserver\\/22f71783ac1f8a0d451a6a1c32dcfc248cf4d450-bulma_confined.min.css\"}],\"type\":\"async_block\"},\"id\":\"16549725655733504176\",\"handlers\":{\"changes\":[\"(function (val){return (val!=this.model[\\\"changes\\\"]()) ? (this.valueFromJulia[\\\"changes\\\"]=true, this.model[\\\"changes\\\"](val)) : undefined})\"],\"index\":[\"(function (val){return (val!=this.model[\\\"index\\\"]()) ? (this.valueFromJulia[\\\"index\\\"]=true, this.model[\\\"index\\\"](val)) : undefined})\"]},\"systemjs_options\":null,\"mount_callbacks\":[\"function () {\\n    var handler = (function (ko, koPunches) {\\n    ko.punches.enableAll();\\n    ko.bindingHandlers.numericValue = {\\n        init: function(element, valueAccessor, allBindings, data, context) {\\n            var stringified = ko.observable(ko.unwrap(valueAccessor()));\\n            stringified.subscribe(function(value) {\\n                var val = parseFloat(value);\\n                if (!isNaN(val)) {\\n                    valueAccessor()(val);\\n                }\\n            });\\n            valueAccessor().subscribe(function(value) {\\n                var str = JSON.stringify(value);\\n                if ((str == \\\"0\\\") && ([\\\"-0\\\", \\\"-0.\\\"].indexOf(stringified()) >= 0))\\n                     return;\\n                 if ([\\\"null\\\", \\\"\\\"].indexOf(str) >= 0)\\n                     return;\\n                stringified(str);\\n            });\\n            ko.applyBindingsToNode(\\n                element,\\n                {\\n                    value: stringified,\\n                    valueUpdate: allBindings.get('valueUpdate'),\\n                },\\n                context,\\n            );\\n        }\\n    };\\n    var json_data = {\\\"formatted_vals\\\":[\\\"-600\\\",\\\"-590\\\",\\\"-580\\\",\\\"-570\\\",\\\"-560\\\",\\\"-550\\\",\\\"-540\\\",\\\"-530\\\",\\\"-520\\\",\\\"-510\\\",\\\"-500\\\",\\\"-490\\\",\\\"-480\\\",\\\"-470\\\",\\\"-460\\\",\\\"-450\\\",\\\"-440\\\",\\\"-430\\\",\\\"-420\\\",\\\"-410\\\",\\\"-400\\\",\\\"-390\\\",\\\"-380\\\",\\\"-370\\\",\\\"-360\\\",\\\"-350\\\",\\\"-340\\\",\\\"-330\\\",\\\"-320\\\",\\\"-310\\\",\\\"-300\\\",\\\"-290\\\",\\\"-280\\\",\\\"-270\\\",\\\"-260\\\",\\\"-250\\\",\\\"-240\\\",\\\"-230\\\",\\\"-220\\\",\\\"-210\\\",\\\"-200\\\",\\\"-190\\\",\\\"-180\\\",\\\"-170\\\",\\\"-160\\\",\\\"-150\\\",\\\"-140\\\",\\\"-130\\\",\\\"-120\\\",\\\"-110\\\",\\\"-100\\\",\\\"-90\\\",\\\"-80\\\",\\\"-70\\\",\\\"-60\\\",\\\"-50\\\",\\\"-40\\\",\\\"-30\\\",\\\"-20\\\",\\\"-10\\\",\\\"0\\\",\\\"10\\\",\\\"20\\\",\\\"30\\\",\\\"40\\\",\\\"50\\\",\\\"60\\\",\\\"70\\\",\\\"80\\\",\\\"90\\\",\\\"100\\\",\\\"110\\\",\\\"120\\\",\\\"130\\\",\\\"140\\\",\\\"150\\\",\\\"160\\\",\\\"170\\\",\\\"180\\\",\\\"190\\\",\\\"200\\\",\\\"210\\\",\\\"220\\\",\\\"230\\\",\\\"240\\\",\\\"250\\\",\\\"260\\\",\\\"270\\\",\\\"280\\\",\\\"290\\\",\\\"300\\\",\\\"310\\\",\\\"320\\\",\\\"330\\\",\\\"340\\\",\\\"350\\\",\\\"360\\\",\\\"370\\\",\\\"380\\\",\\\"390\\\",\\\"400\\\"],\\\"changes\\\":WebIO.getval({\\\"name\\\":\\\"changes\\\",\\\"scope\\\":\\\"16549725655733504176\\\",\\\"id\\\":\\\"12\\\",\\\"type\\\":\\\"observable\\\"}),\\\"index\\\":WebIO.getval({\\\"name\\\":\\\"index\\\",\\\"scope\\\":\\\"16549725655733504176\\\",\\\"id\\\":\\\"11\\\",\\\"type\\\":\\\"observable\\\"})};\\n    var self = this;\\n    function AppViewModel() {\\n        for (var key in json_data) {\\n            var el = json_data[key];\\n            this[key] = Array.isArray(el) ? ko.observableArray(el) : ko.observable(el);\\n        }\\n        \\n        [this[\\\"formatted_val\\\"]=ko.computed(    function(){\\n        return this.formatted_vals()[parseInt(this.index())-(1)];\\n    }\\n,this)]\\n        [this[\\\"changes\\\"].subscribe((function (val){!(this.valueFromJulia[\\\"changes\\\"]) ? (WebIO.setval({\\\"name\\\":\\\"changes\\\",\\\"scope\\\":\\\"16549725655733504176\\\",\\\"id\\\":\\\"12\\\",\\\"type\\\":\\\"observable\\\"},val)) : undefined; return this.valueFromJulia[\\\"changes\\\"]=false}),self),this[\\\"index\\\"].subscribe((function (val){!(this.valueFromJulia[\\\"index\\\"]) ? (WebIO.setval({\\\"name\\\":\\\"index\\\",\\\"scope\\\":\\\"16549725655733504176\\\",\\\"id\\\":\\\"11\\\",\\\"type\\\":\\\"observable\\\"},val)) : undefined; return this.valueFromJulia[\\\"index\\\"]=false}),self)]\\n        \\n    }\\n    self.model = new AppViewModel();\\n    self.valueFromJulia = {};\\n    for (var key in json_data) {\\n        self.valueFromJulia[key] = false;\\n    }\\n    ko.applyBindings(self.model, self.dom);\\n}\\n);\\n    (WebIO.importBlock({\\\"data\\\":[{\\\"name\\\":\\\"knockout\\\",\\\"type\\\":\\\"js\\\",\\\"url\\\":\\\"\\/assetserver\\/3a4e929e1247ddcb940724c9d5e4ccd400680bc1-knockout.js\\\"},{\\\"name\\\":\\\"knockout_punches\\\",\\\"type\\\":\\\"js\\\",\\\"url\\\":\\\"\\/assetserver\\/9ca207215f568ec5d0d75f182ccbdbd8dd906e15-knockout_punches.js\\\"}],\\\"type\\\":\\\"async_block\\\"})).then((imports) => handler.apply(this, imports));\\n}\\n\"],\"observables\":{\"changes\":{\"sync\":false,\"id\":\"12\",\"value\":0},\"index\":{\"sync\":true,\"id\":\"11\",\"value\":51}}},\"children\":[{\"props\":{\"className\":\"interact-flex-row interact-widget\"},\"nodeType\":\"DOM\",\"type\":\"node\",\"instanceArgs\":{\"namespace\":\"html\",\"tag\":\"div\"},\"children\":[{\"props\":{\"className\":\"interact-flex-row-left\"},\"nodeType\":\"DOM\",\"type\":\"node\",\"instanceArgs\":{\"namespace\":\"html\",\"tag\":\"div\"},\"children\":[{\"props\":{\"className\":\"interact \",\"style\":{\"padding\":\"5px 10px 0px 10px\"}},\"nodeType\":\"DOM\",\"type\":\"node\",\"instanceArgs\":{\"namespace\":\"html\",\"tag\":\"label\"},\"children\":[\"K1\"]}]},{\"props\":{\"className\":\"interact-flex-row-center\"},\"nodeType\":\"DOM\",\"type\":\"node\",\"instanceArgs\":{\"namespace\":\"html\",\"tag\":\"div\"},\"children\":[{\"props\":{\"max\":101,\"min\":1,\"attributes\":{\"type\":\"range\",\"data-bind\":\"numericValue: index, valueUpdate: 'input', event: {change: function (){this.changes(this.changes()+1)}}\",\"orient\":\"horizontal\"},\"step\":1,\"className\":\"slider slider is-fullwidth\",\"style\":{}},\"nodeType\":\"DOM\",\"type\":\"node\",\"instanceArgs\":{\"namespace\":\"html\",\"tag\":\"input\"},\"children\":[]}]},{\"props\":{\"className\":\"interact-flex-row-right\"},\"nodeType\":\"DOM\",\"type\":\"node\",\"instanceArgs\":{\"namespace\":\"html\",\"tag\":\"div\"},\"children\":[{\"props\":{\"attributes\":{\"data-bind\":\"text: formatted_val\"}},\"nodeType\":\"DOM\",\"type\":\"node\",\"instanceArgs\":{\"namespace\":\"html\",\"tag\":\"p\"},\"children\":[]}]}]}]}]},{\"props\":{},\"nodeType\":\"Scope\",\"type\":\"node\",\"instanceArgs\":{\"imports\":{\"data\":[],\"type\":\"async_block\"},\"id\":\"13384954185766186039\",\"handlers\":{},\"systemjs_options\":null,\"mount_callbacks\":[],\"observables\":{\"obs-node\":{\"sync\":false,\"id\":\"16\",\"value\":{\"props\":{\"className\":\"interact-flex-row interact-widget\"},\"nodeType\":\"DOM\",\"type\":\"node\",\"instanceArgs\":{\"namespace\":\"html\",\"tag\":\"div\"},\"children\":[{\"props\":{\"setInnerHtml\":\"    <div id=\\\"4a4e0d05-00ab-4063-9741-2d6d8e663f24\\\" style=\\\"width:600px;height:400px;\\\"><\\/div>\\n    <script>\\n        requirejs.config({\\n        paths: {\\n            plotly: 'https:\\/\\/cdn.plot.ly\\/plotly-2.6.3.min'\\n        }\\n    });\\n    require(['plotly'], function (Plotly) {\\n\\n    Plotly.newPlot('4a4e0d05-00ab-4063-9741-2d6d8e663f24', [\\n    {\\n        \\\"xaxis\\\": \\\"x\\\",\\n        \\\"colorbar\\\": {\\n            \\\"y\\\": 0.5086805555555556,\\n            \\\"title\\\": \\\"\\\",\\n            \\\"len\\\": 0.8657316272965879,\\n            \\\"x\\\": 0.9934383202099737\\n        },\\n        \\\"yaxis\\\": \\\"y\\\",\\n        \\\"text\\\": [\\n            \\\"Root Locus<br>K1: -100.00<br>R1: 50.00 + 87.18j<br>R2: 50.00 + -87.18j\\\",\\n            \\\"Root Locus<br>K1: -100.00<br>R1: 50.00 + 87.18j<br>R2: 50.00 + -87.18j\\\"\\n        ],\\n        \\\"x\\\": [\\n            50.0,\\n            50.0\\n        ],\\n        \\\"showlegend\\\": true,\\n        \\\"mode\\\": \\\"markers\\\",\\n        \\\"name\\\": \\\"y2\\\",\\n        \\\"legendgroup\\\": \\\"y2\\\",\\n        \\\"marker\\\": {\\n            \\\"symbol\\\": \\\"circle\\\",\\n            \\\"color\\\": \\\"rgba(128, 128, 128, 1.000)\\\",\\n            \\\"line\\\": {\\n                \\\"color\\\": \\\"rgba(0, 0, 0, 1.000)\\\",\\n                \\\"width\\\": 1\\n            },\\n            \\\"size\\\": 10\\n        },\\n        \\\"y\\\": [\\n            87.17797887081348,\\n            -87.17797887081348\\n        ],\\n        \\\"type\\\": \\\"scatter\\\",\\n        \\\"hoverinfo\\\": \\\"text\\\"\\n    }\\n]\\n, {\\n    \\\"showlegend\\\": false,\\n    \\\"xaxis\\\": {\\n        \\\"showticklabels\\\": true,\\n        \\\"gridwidth\\\": 0.5,\\n        \\\"tickvals\\\": [\\n            50.0,\\n            50.25,\\n            50.5,\\n            50.75,\\n            51.0\\n        ],\\n        \\\"range\\\": [\\n            49.97,\\n            51.03\\n        ],\\n        \\\"domain\\\": [\\n            0.07646908719743364,\\n            0.9934383202099737\\n        ],\\n        \\\"mirror\\\": false,\\n        \\\"tickangle\\\": 0,\\n        \\\"showline\\\": true,\\n        \\\"ticktext\\\": [\\n            \\\"50.00\\\",\\n            \\\"50.25\\\",\\n            \\\"50.50\\\",\\n            \\\"50.75\\\",\\n            \\\"51.00\\\"\\n        ],\\n        \\\"zeroline\\\": false,\\n        \\\"tickfont\\\": {\\n            \\\"color\\\": \\\"rgba(0, 0, 0, 1.000)\\\",\\n            \\\"family\\\": \\\"sans-serif\\\",\\n            \\\"size\\\": 11\\n        },\\n        \\\"zerolinecolor\\\": \\\"rgba(0, 0, 0, 1.000)\\\",\\n        \\\"anchor\\\": \\\"y\\\",\\n        \\\"visible\\\": true,\\n        \\\"ticks\\\": \\\"inside\\\",\\n        \\\"tickmode\\\": \\\"array\\\",\\n        \\\"linecolor\\\": \\\"rgba(0, 0, 0, 1.000)\\\",\\n        \\\"showgrid\\\": true,\\n        \\\"title\\\": \\\"Re(s)\\\",\\n        \\\"gridcolor\\\": \\\"rgba(0, 0, 0, 0.100)\\\",\\n        \\\"titlefont\\\": {\\n            \\\"color\\\": \\\"rgba(0, 0, 0, 1.000)\\\",\\n            \\\"family\\\": \\\"sans-serif\\\",\\n            \\\"size\\\": 15\\n        },\\n        \\\"tickcolor\\\": \\\"rgb(0, 0, 0)\\\",\\n        \\\"type\\\": \\\"-\\\"\\n    },\\n    \\\"paper_bgcolor\\\": \\\"rgba(255, 255, 255, 1.000)\\\",\\n    \\\"annotations\\\": [\\n        {\\n            \\\"yanchor\\\": \\\"top\\\",\\n            \\\"xanchor\\\": \\\"center\\\",\\n            \\\"rotation\\\": -0.0,\\n            \\\"y\\\": 1.0,\\n            \\\"font\\\": {\\n                \\\"color\\\": \\\"rgba(0, 0, 0, 1.000)\\\",\\n                \\\"family\\\": \\\"sans-serif\\\",\\n                \\\"size\\\": 20\\n            },\\n            \\\"yref\\\": \\\"paper\\\",\\n            \\\"showarrow\\\": false,\\n            \\\"text\\\": \\\"Root Locus\\\",\\n            \\\"xref\\\": \\\"paper\\\",\\n            \\\"x\\\": 0.5349537037037038\\n        }\\n    ],\\n    \\\"height\\\": 400,\\n    \\\"margin\\\": {\\n        \\\"l\\\": 0,\\n        \\\"b\\\": 20,\\n        \\\"r\\\": 0,\\n        \\\"t\\\": 20\\n    },\\n    \\\"plot_bgcolor\\\": \\\"rgba(255, 255, 255, 1.000)\\\",\\n    \\\"yaxis\\\": {\\n        \\\"showticklabels\\\": true,\\n        \\\"gridwidth\\\": 0.5,\\n        \\\"tickvals\\\": [\\n            -75.0,\\n            -50.0,\\n            -25.0,\\n            0.0,\\n            25.0,\\n            50.0,\\n            75.0\\n        ],\\n        \\\"range\\\": [\\n            -92.4086576030623,\\n            92.4086576030623\\n        ],\\n        \\\"domain\\\": [\\n            0.07581474190726165,\\n            0.9415463692038496\\n        ],\\n        \\\"mirror\\\": false,\\n        \\\"tickangle\\\": 0,\\n        \\\"showline\\\": true,\\n        \\\"ticktext\\\": [\\n            \\\"−75\\\",\\n            \\\"−50\\\",\\n            \\\"−25\\\",\\n            \\\"0\\\",\\n            \\\"25\\\",\\n            \\\"50\\\",\\n            \\\"75\\\"\\n        ],\\n        \\\"zeroline\\\": false,\\n        \\\"tickfont\\\": {\\n            \\\"color\\\": \\\"rgba(0, 0, 0, 1.000)\\\",\\n            \\\"family\\\": \\\"sans-serif\\\",\\n            \\\"size\\\": 11\\n        },\\n        \\\"zerolinecolor\\\": \\\"rgba(0, 0, 0, 1.000)\\\",\\n        \\\"anchor\\\": \\\"x\\\",\\n        \\\"visible\\\": true,\\n        \\\"ticks\\\": \\\"inside\\\",\\n        \\\"tickmode\\\": \\\"array\\\",\\n        \\\"linecolor\\\": \\\"rgba(0, 0, 0, 1.000)\\\",\\n        \\\"showgrid\\\": true,\\n        \\\"title\\\": \\\"Im(s)\\\",\\n        \\\"gridcolor\\\": \\\"rgba(0, 0, 0, 0.100)\\\",\\n        \\\"titlefont\\\": {\\n            \\\"color\\\": \\\"rgba(0, 0, 0, 1.000)\\\",\\n            \\\"family\\\": \\\"sans-serif\\\",\\n            \\\"size\\\": 15\\n        },\\n        \\\"tickcolor\\\": \\\"rgb(0, 0, 0)\\\",\\n        \\\"type\\\": \\\"-\\\"\\n    },\\n    \\\"width\\\": 600\\n}\\n);\\n    });\\n    <\\/script>\\n\"},\"nodeType\":\"DOM\",\"type\":\"node\",\"instanceArgs\":{\"namespace\":\"html\",\"tag\":\"div\"},\"children\":[]}]}}}},\"children\":[{\"props\":{},\"nodeType\":\"ObservableNode\",\"type\":\"node\",\"instanceArgs\":{\"id\":\"16\",\"name\":\"obs-node\"},\"children\":[]}]}]},\n",
       "        window,\n",
       "    );\n",
       "    })()\n",
       "    </script>\n",
       "</div>\n"
      ],
      "text/plain": [
       "WebIO.Node{WebIO.DOM}(WebIO.DOM(:html, :div), Any[WebIO.Node{WebIO.DOM}(WebIO.DOM(:html, :div), Any[WebIO.Scope(WebIO.Node{WebIO.DOM}(WebIO.DOM(:html, :div), Any[WebIO.Node{WebIO.DOM}(WebIO.DOM(:html, :div), Any[WebIO.Node{WebIO.DOM}(WebIO.DOM(:html, :label), Any[\"K1\"], Dict{Symbol, Any}(:className => \"interact \", :style => Dict{Any, Any}(:padding => \"5px 10px 0px 10px\")))], Dict{Symbol, Any}(:className => \"interact-flex-row-left\")), WebIO.Node{WebIO.DOM}(WebIO.DOM(:html, :div), Any[WebIO.Node{WebIO.DOM}(WebIO.DOM(:html, :input), Any[], Dict{Symbol, Any}(:max => 101, :min => 1, :attributes => Dict{Any, Any}(:type => \"range\", Symbol(\"data-bind\") => \"numericValue: index, valueUpdate: 'input', event: {change: function (){this.changes(this.changes()+1)}}\", \"orient\" => \"horizontal\"), :step => 1, :className => \"slider slider is-fullwidth\", :style => Dict{Any, Any}()))], Dict{Symbol, Any}(:className => \"interact-flex-row-center\")), WebIO.Node{WebIO.DOM}(WebIO.DOM(:html, :div), Any[WebIO.Node{WebIO.DOM}(WebIO.DOM(:html, :p), Any[], Dict{Symbol, Any}(:attributes => Dict(\"data-bind\" => \"text: formatted_val\")))], Dict{Symbol, Any}(:className => \"interact-flex-row-right\"))], Dict{Symbol, Any}(:className => \"interact-flex-row interact-widget\")), Dict{String, Tuple{Observables.AbstractObservable, Union{Nothing, Bool}}}(\"changes\" => (Observable(0), nothing), \"index\" => (Observable{Any}(51), nothing)), Set{String}(), nothing, WebIO.Asset[WebIO.Asset(\"js\", \"knockout\", \"/Users/rma/.julia/packages/Knockout/HReiN/src/../assets/knockout.js\"), WebIO.Asset(\"js\", \"knockout_punches\", \"/Users/rma/.julia/packages/Knockout/HReiN/src/../assets/knockout_punches.js\"), WebIO.Asset(\"js\", nothing, \"/Users/rma/.julia/packages/InteractBase/LJXv3/src/../assets/all.js\"), WebIO.Asset(\"css\", nothing, \"/Users/rma/.julia/packages/InteractBase/LJXv3/src/../assets/style.css\"), WebIO.Asset(\"css\", nothing, \"/Users/rma/.julia/packages/Interact/PENUy/src/../assets/bulma_confined.min.css\")], Dict{Any, Any}(\"changes\" => Any[WebIO.JSString(\"(function (val){return (val!=this.model[\\\"changes\\\"]()) ? (this.valueFromJulia[\\\"changes\\\"]=true, this.model[\\\"changes\\\"](val)) : undefined})\")], \"index\" => Any[WebIO.JSString(\"(function (val){return (val!=this.model[\\\"index\\\"]()) ? (this.valueFromJulia[\\\"index\\\"]=true, this.model[\\\"index\\\"](val)) : undefined})\")]), WebIO.ConnectionPool(Channel{Any}(32), Set{WebIO.AbstractConnection}(), Base.GenericCondition{ReentrantLock}(Base.IntrusiveLinkedList{Task}(Task (runnable, started) @0x00000003210a9910, Task (runnable, started) @0x00000003210a9910), ReentrantLock(nothing, 0x00000000, 0x00, Base.GenericCondition{Base.Threads.SpinLock}(Base.IntrusiveLinkedList{Task}(nothing, nothing), Base.Threads.SpinLock(0)), (13125332528, 13125332592, -279955405034867)))), WebIO.JSString[WebIO.JSString(\"function () {\\n    var handler = (function (ko, koPunches) {\\n    ko.punches.enableAll();\\n    ko.bindingHandlers.numericValue = {\\n        init: function(element, valueAccessor, allBindings, data, context) {\\n            var stringified = ko.observable(ko.unwrap(valueAccessor()));\\n            stringified.subscribe(function(value) {\\n                var val = parseFloat(value);\\n                if (!isNaN(val)) {\\n                    valueAccessor()(val);\\n                }\\n            });\\n            valueAccessor().subscribe(function(value) {\\n                var str = JSON.stringify(value);\\n                if ((str == \\\"0\\\") && ([\\\"-0\\\", \\\"-0.\\\"].indexOf(stringified()) >= 0))\\n                     return;\\n                 if ([\\\"null\\\", \\\"\\\"].indexOf(str) >= 0)\\n                     return;\\n                stringified(str);\\n            });\\n            ko.applyBindingsToNode(\\n                element,\\n                {\\n                    value: stringified,\\n                    valueUpdate: allBindings.get('valueUpdate'),\\n                },\\n                context,\\n            );\\n        }\\n    };\\n    var json_data = {\\\"formatted_vals\\\":[\\\"-600\\\",\\\"-590\\\",\\\"-580\\\",\\\"-570\\\",\\\"-560\\\",\\\"-550\\\",\\\"-540\\\",\\\"-530\\\",\\\"-520\\\",\\\"-510\\\",\\\"-500\\\",\\\"-490\\\",\\\"-480\\\",\\\"-470\\\",\\\"-460\\\",\\\"-450\\\",\\\"-440\\\",\\\"-430\\\",\\\"-420\\\",\\\"-410\\\",\\\"-400\\\",\\\"-390\\\",\\\"-380\\\",\\\"-370\\\",\\\"-360\\\",\\\"-350\\\",\\\"-340\\\",\\\"-330\\\",\\\"-320\\\",\\\"-310\\\",\\\"-300\\\",\\\"-290\\\",\\\"-280\\\",\\\"-270\\\",\\\"-260\\\",\\\"-250\\\",\\\"-240\\\",\\\"-230\\\",\\\"-220\\\",\\\"-210\\\",\\\"-200\\\",\\\"-190\\\",\\\"-180\\\",\\\"-170\\\",\\\"-160\\\",\\\"-150\\\",\\\"-140\\\",\\\"-130\\\",\\\"-120\\\",\\\"-110\\\",\\\"-100\\\",\\\"-90\\\",\\\"-80\\\",\\\"-70\\\",\\\"-60\\\",\\\"-50\\\",\\\"-40\\\",\\\"-30\\\",\\\"-20\\\",\\\"-10\\\",\\\"0\\\",\\\"10\\\",\\\"20\\\",\\\"30\\\",\\\"40\\\",\\\"50\\\",\\\"60\\\",\\\"70\\\",\\\"80\\\",\\\"90\\\",\\\"100\\\",\\\"110\\\",\\\"120\\\",\\\"130\\\",\\\"140\\\",\\\"150\\\",\\\"160\\\",\\\"170\\\",\\\"180\\\",\\\"190\\\",\\\"200\\\",\\\"210\\\",\\\"220\\\",\\\"230\\\",\\\"240\\\",\\\"250\\\",\\\"260\\\",\\\"270\\\",\\\"280\\\",\\\"290\\\",\\\"300\\\",\\\"310\\\",\\\"320\\\",\\\"330\\\",\\\"340\\\",\\\"350\\\",\\\"360\\\",\\\"370\\\",\\\"380\\\",\\\"390\\\",\\\"400\\\"],\\\"changes\\\":WebIO.getval({\\\"name\\\":\\\"changes\\\",\\\"scope\\\":\\\"16549725655733504176\\\",\\\"id\\\":\\\"12\\\",\\\"type\\\":\\\"observable\\\"}),\\\"index\\\":WebIO.getval({\\\"name\\\":\\\"index\\\",\\\"scope\\\":\\\"16549725655733504176\\\",\\\"id\\\":\\\"11\\\",\\\"type\\\":\\\"observable\\\"})};\\n    var self = this;\\n    function AppViewModel() {\\n        for (var key in json_data) {\\n            var el = json_data[key];\\n            this[key] = Array.isArray(el) ? ko.observableArray(el) : ko.observable(el);\\n        }\\n        \\n        [this[\\\"formatted_val\\\"]=ko.computed(    function(){\\n        return this.formatted_vals()[parseInt(this.index())-(1)];\\n    }\\n,this)]\\n        [this[\\\"changes\\\"].subscribe((function (val){!(this.valueFromJulia[\\\"changes\\\"]) ? (WebIO.setval({\\\"name\\\":\\\"changes\\\",\\\"scope\\\":\\\"16549725655733504176\\\",\\\"id\\\":\\\"12\\\",\\\"type\\\":\\\"observable\\\"},val)) : undefined; return this.valueFromJulia[\\\"changes\\\"]=false}),self),this[\\\"index\\\"].subscribe((function (val){!(this.valueFromJulia[\\\"index\\\"]) ? (WebIO.setval({\\\"name\\\":\\\"index\\\",\\\"scope\\\":\\\"16549725655733504176\\\",\\\"id\\\":\\\"11\\\",\\\"type\\\":\\\"observable\\\"},val)) : undefined; return this.valueFromJulia[\\\"index\\\"]=false}),self)]\\n        \\n    }\\n    self.model = new AppViewModel();\\n    self.valueFromJulia = {};\\n    for (var key in json_data) {\\n        self.valueFromJulia[key] = false;\\n    }\\n    ko.applyBindings(self.model, self.dom);\\n}\\n);\\n    (WebIO.importBlock({\\\"data\\\":[{\\\"name\\\":\\\"knockout\\\",\\\"type\\\":\\\"js\\\",\\\"url\\\":\\\"/assetserver/3a4e929e1247ddcb940724c9d5e4ccd400680bc1-knockout.js\\\"},{\\\"name\\\":\\\"knockout_punches\\\",\\\"type\\\":\\\"js\\\",\\\"url\\\":\\\"/assetserver/9ca207215f568ec5d0d75f182ccbdbd8dd906e15-knockout_punches.js\\\"}],\\\"type\\\":\\\"async_block\\\"})).then((imports) => handler.apply(this, imports));\\n}\\n\")])], Dict{Symbol, Any}(:className => \"field interact-widget\")), Observable(WebIO.Node{WebIO.DOM}(WebIO.DOM(:html, :div), Any[Plot{Plots.PlotlyBackend() n=2}\n",
       "Captured extra kwargs:\n",
       "  Series{1}:\n",
       "    hoverinfo: text\n",
       "  Series{2}:\n",
       "    hoverinfo: text\n",
       "], Dict{Symbol, Any}(:className => \"interact-flex-row interact-widget\")))], Dict{Symbol, Any}())"
      ]
     },
     "execution_count": 3,
     "metadata": {
      "application/vnd.webio.node+json": {
       "kernelId": "25fd1084-63d0-4476-b9c1-b3541ad9f3c5"
      }
     },
     "output_type": "execute_result"
    }
   ],
   "source": [
    "interactive_root_locus(first_roots, -600:10:400)"
   ]
  },
  {
   "cell_type": "code",
   "execution_count": null,
   "metadata": {},
   "outputs": [],
   "source": []
  }
 ],
 "metadata": {
  "@webio": {
   "lastCommId": "910838e26f8f4c8b8fde5d12e9209897",
   "lastKernelId": "25fd1084-63d0-4476-b9c1-b3541ad9f3c5"
  },
  "kernelspec": {
   "display_name": "Julia 1.11.3",
   "language": "julia",
   "name": "julia-1.11"
  },
  "language_info": {
   "file_extension": ".jl",
   "mimetype": "application/julia",
   "name": "julia",
   "version": "1.11.3"
  }
 },
 "nbformat": 4,
 "nbformat_minor": 4
}
